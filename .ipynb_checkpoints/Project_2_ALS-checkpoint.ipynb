{
 "cells": [
  {
   "cell_type": "code",
   "execution_count": null,
   "metadata": {
    "colab": {
     "base_uri": "https://localhost:8080/"
    },
    "executionInfo": {
     "elapsed": 9807,
     "status": "ok",
     "timestamp": 1676435518153,
     "user": {
      "displayName": "Lưu Nguyễn Khải Hoàn",
      "userId": "12754983180713265756"
     },
     "user_tz": -420
    },
    "id": "fOGN-qD_c7V_",
    "outputId": "0feb3f4f-c1a2-4570-c006-c208cce5159c"
   },
   "outputs": [],
   "source": [
    "# !apt update\n",
    "# !apt-get install openjdk-11-jdk-headless -qq > /dev/null\n",
    "# !wget -q http://archive.apache.org/dist/spark/spark-3.3.0/spark-3.3.0-bin-hadoop3.tgz\n",
    "# !tar -xvf spark-3.3.0-bin-hadoop3.tgz\n",
    "# !pip install -q findspark\n",
    "# import os\n",
    "# os.environ[\"JAVA_HOME\"] = \"/usr/lib/jvm/java-11-openjdk-amd64\"\n",
    "# os.environ[\"SPARK_HOME\"] = \"/content/spark-3.3.0-bin-hadoop3\""
   ]
  },
  {
   "cell_type": "code",
   "execution_count": 1,
   "metadata": {
    "executionInfo": {
     "elapsed": 8,
     "status": "ok",
     "timestamp": 1676435518154,
     "user": {
      "displayName": "Lưu Nguyễn Khải Hoàn",
      "userId": "12754983180713265756"
     },
     "user_tz": -420
    },
    "id": "sBV2T2CbdvwK"
   },
   "outputs": [],
   "source": [
    "import findspark\n",
    "findspark.init()"
   ]
  },
  {
   "cell_type": "code",
   "execution_count": 2,
   "metadata": {
    "colab": {
     "base_uri": "https://localhost:8080/"
    },
    "executionInfo": {
     "elapsed": 4420,
     "status": "ok",
     "timestamp": 1676435522567,
     "user": {
      "displayName": "Lưu Nguyễn Khải Hoàn",
      "userId": "12754983180713265756"
     },
     "user_tz": -420
    },
    "id": "n2qF_gUUdzrL",
    "outputId": "ed7b885a-71b9-4ca5-814b-359145e40e8b"
   },
   "outputs": [],
   "source": [
    "# from google.colab import drive\n",
    "# drive.mount('/content/gdrive', force_remount=True)"
   ]
  },
  {
   "cell_type": "code",
   "execution_count": 3,
   "metadata": {
    "colab": {
     "base_uri": "https://localhost:8080/",
     "height": 876
    },
    "executionInfo": {
     "elapsed": 23,
     "status": "error",
     "timestamp": 1676435522567,
     "user": {
      "displayName": "Lưu Nguyễn Khải Hoàn",
      "userId": "12754983180713265756"
     },
     "user_tz": -420
    },
    "id": "J7fCgnG5eHS7",
    "outputId": "c83d2ead-78ac-4de7-8cdd-776e07dac85e"
   },
   "outputs": [],
   "source": [
    "# %cd '/content/gdrive/MyDrive/Data_Sicience/LDS0_K282_ONLINE_LuuNguyenKhaiHoan/Project_2/Data'"
   ]
  },
  {
   "cell_type": "code",
   "execution_count": 4,
   "metadata": {
    "executionInfo": {
     "elapsed": 16,
     "status": "aborted",
     "timestamp": 1676435522569,
     "user": {
      "displayName": "Lưu Nguyễn Khải Hoàn",
      "userId": "12754983180713265756"
     },
     "user_tz": -420
    },
    "id": "-P1HmhgdeNOz"
   },
   "outputs": [],
   "source": [
    "from pyspark.sql import SparkSession\n",
    "from pyspark import SparkContext\n",
    "from pyspark import SparkConf\n",
    "from pyspark.sql import SparkSession"
   ]
  },
  {
   "cell_type": "code",
   "execution_count": 5,
   "metadata": {},
   "outputs": [
    {
     "name": "stdout",
     "output_type": "stream",
     "text": [
      "C:\\Users\\khaih\\Downloads\\Project_2\\Data\n"
     ]
    }
   ],
   "source": [
    "%cd \"C:\\Users\\khaih\\Downloads\\Project_2\\Data"
   ]
  },
  {
   "cell_type": "code",
   "execution_count": 6,
   "metadata": {
    "executionInfo": {
     "elapsed": 17,
     "status": "aborted",
     "timestamp": 1676435522570,
     "user": {
      "displayName": "Lưu Nguyễn Khải Hoàn",
      "userId": "12754983180713265756"
     },
     "user_tz": -420
    },
    "id": "NhakD4H9eQK2"
   },
   "outputs": [],
   "source": [
    "SparkContext.setSystemProperty('spark.executor.memory', '8g')\n",
    "sc = SparkContext(master='local', appName='Project_2_ALS')"
   ]
  },
  {
   "cell_type": "code",
   "execution_count": 7,
   "metadata": {
    "executionInfo": {
     "elapsed": 18,
     "status": "aborted",
     "timestamp": 1676435522571,
     "user": {
      "displayName": "Lưu Nguyễn Khải Hoàn",
      "userId": "12754983180713265756"
     },
     "user_tz": -420
    },
    "id": "QS890V4zeUJJ"
   },
   "outputs": [],
   "source": [
    "spark = SparkSession(sc)"
   ]
  },
  {
   "cell_type": "markdown",
   "metadata": {
    "id": "0sYnpYxIcqVN"
   },
   "source": [
    "###Read Data"
   ]
  },
  {
   "cell_type": "code",
   "execution_count": 8,
   "metadata": {
    "executionInfo": {
     "elapsed": 18,
     "status": "aborted",
     "timestamp": 1676435522572,
     "user": {
      "displayName": "Lưu Nguyễn Khải Hoàn",
      "userId": "12754983180713265756"
     },
     "user_tz": -420
    },
    "id": "ADq5a6iae4kf"
   },
   "outputs": [],
   "source": [
    "import pandas as pd\n",
    "#data = pd.read_csv(\"pre_data.csv\", ,index_col=0)\n",
    "products= pd.read_csv(\"pre_products.csv\",delimiter=',',index_col=0)\n",
    "reviews=pd.read_csv(\"ReviewRaw.csv\",delimiter=',')"
   ]
  },
  {
   "cell_type": "code",
   "execution_count": 9,
   "metadata": {
    "executionInfo": {
     "elapsed": 19,
     "status": "aborted",
     "timestamp": 1676435522573,
     "user": {
      "displayName": "Lưu Nguyễn Khải Hoàn",
      "userId": "12754983180713265756"
     },
     "user_tz": -420
    },
    "id": "Vs2xPP50fBiR"
   },
   "outputs": [
    {
     "data": {
      "text/html": [
       "<div>\n",
       "<style scoped>\n",
       "    .dataframe tbody tr th:only-of-type {\n",
       "        vertical-align: middle;\n",
       "    }\n",
       "\n",
       "    .dataframe tbody tr th {\n",
       "        vertical-align: top;\n",
       "    }\n",
       "\n",
       "    .dataframe thead th {\n",
       "        text-align: right;\n",
       "    }\n",
       "</style>\n",
       "<table border=\"1\" class=\"dataframe\">\n",
       "  <thead>\n",
       "    <tr style=\"text-align: right;\">\n",
       "      <th></th>\n",
       "      <th>index</th>\n",
       "      <th>item_id</th>\n",
       "      <th>rating</th>\n",
       "      <th>product_content</th>\n",
       "      <th>product_content_wt</th>\n",
       "    </tr>\n",
       "  </thead>\n",
       "  <tbody>\n",
       "    <tr>\n",
       "      <th>0</th>\n",
       "      <td>0</td>\n",
       "      <td>48102821</td>\n",
       "      <td>4.0</td>\n",
       "      <td>Tai nghe Bluetooth Inpods 12 - Cảm biến vân ta...</td>\n",
       "      <td>vân chống nước nhạc từ sạc đầy chỉ khoảng chờ ...</td>\n",
       "    </tr>\n",
       "    <tr>\n",
       "      <th>1</th>\n",
       "      <td>1</td>\n",
       "      <td>52333193</td>\n",
       "      <td>4.5</td>\n",
       "      <td>Tai nghe bluetooth không dây F9 True wireless ...</td>\n",
       "      <td>không dây wireless có báo kép nhạc giờ giờ . o...</td>\n",
       "    </tr>\n",
       "    <tr>\n",
       "      <th>2</th>\n",
       "      <td>2</td>\n",
       "      <td>299461</td>\n",
       "      <td>4.8</td>\n",
       "      <td>Chuột Không Dây Logitech M331 Silent - Hàng Ch...</td>\n",
       "      <td>chuột không dây hàng chính hãng thương hiệu cá...</td>\n",
       "    </tr>\n",
       "    <tr>\n",
       "      <th>3</th>\n",
       "      <td>3</td>\n",
       "      <td>57440329</td>\n",
       "      <td>4.7</td>\n",
       "      <td>Loa Bluetooth 5.0 Kiêm Đồng Hồ Báo Thức - [[ 2...</td>\n",
       "      <td>robot hàng chính hãng acome sku chính hãng aco...</td>\n",
       "    </tr>\n",
       "    <tr>\n",
       "      <th>4</th>\n",
       "      <td>4</td>\n",
       "      <td>38458616</td>\n",
       "      <td>4.8</td>\n",
       "      <td>Tai Nghe Bluetooth Apple AirPods Pro True Wire...</td>\n",
       "      <td>hàng chính hãng mỹ hộp sạc sạc sku và nhỏ gọn ...</td>\n",
       "    </tr>\n",
       "  </tbody>\n",
       "</table>\n",
       "</div>"
      ],
      "text/plain": [
       "   index   item_id  rating                                    product_content  \\\n",
       "0      0  48102821     4.0  Tai nghe Bluetooth Inpods 12 - Cảm biến vân ta...   \n",
       "1      1  52333193     4.5  Tai nghe bluetooth không dây F9 True wireless ...   \n",
       "2      2    299461     4.8  Chuột Không Dây Logitech M331 Silent - Hàng Ch...   \n",
       "3      3  57440329     4.7  Loa Bluetooth 5.0 Kiêm Đồng Hồ Báo Thức - [[ 2...   \n",
       "4      4  38458616     4.8  Tai Nghe Bluetooth Apple AirPods Pro True Wire...   \n",
       "\n",
       "                                  product_content_wt  \n",
       "0  vân chống nước nhạc từ sạc đầy chỉ khoảng chờ ...  \n",
       "1  không dây wireless có báo kép nhạc giờ giờ . o...  \n",
       "2  chuột không dây hàng chính hãng thương hiệu cá...  \n",
       "3  robot hàng chính hãng acome sku chính hãng aco...  \n",
       "4  hàng chính hãng mỹ hộp sạc sạc sku và nhỏ gọn ...  "
      ]
     },
     "execution_count": 9,
     "metadata": {},
     "output_type": "execute_result"
    }
   ],
   "source": [
    "products.head()"
   ]
  },
  {
   "cell_type": "code",
   "execution_count": 10,
   "metadata": {
    "executionInfo": {
     "elapsed": 20,
     "status": "aborted",
     "timestamp": 1676435522574,
     "user": {
      "displayName": "Lưu Nguyễn Khải Hoàn",
      "userId": "12754983180713265756"
     },
     "user_tz": -420
    },
    "id": "hZAUqxm_pp5o"
   },
   "outputs": [
    {
     "data": {
      "text/html": [
       "<div>\n",
       "<style scoped>\n",
       "    .dataframe tbody tr th:only-of-type {\n",
       "        vertical-align: middle;\n",
       "    }\n",
       "\n",
       "    .dataframe tbody tr th {\n",
       "        vertical-align: top;\n",
       "    }\n",
       "\n",
       "    .dataframe thead th {\n",
       "        text-align: right;\n",
       "    }\n",
       "</style>\n",
       "<table border=\"1\" class=\"dataframe\">\n",
       "  <thead>\n",
       "    <tr style=\"text-align: right;\">\n",
       "      <th></th>\n",
       "      <th>customer_id</th>\n",
       "      <th>product_id</th>\n",
       "      <th>name</th>\n",
       "      <th>full_name</th>\n",
       "      <th>created_time</th>\n",
       "      <th>rating</th>\n",
       "      <th>title</th>\n",
       "      <th>content</th>\n",
       "    </tr>\n",
       "  </thead>\n",
       "  <tbody>\n",
       "    <tr>\n",
       "      <th>0</th>\n",
       "      <td>709310</td>\n",
       "      <td>10001012</td>\n",
       "      <td>Lân Nguyễn Hoàng</td>\n",
       "      <td>Lân Nguyễn Hoàng</td>\n",
       "      <td>NaN</td>\n",
       "      <td>3</td>\n",
       "      <td>Ko dùng đc thẻ nhớ</td>\n",
       "      <td>Lúcđầu quên thông tin nên dùng 512gb thì ko đc...</td>\n",
       "    </tr>\n",
       "    <tr>\n",
       "      <th>1</th>\n",
       "      <td>10701688</td>\n",
       "      <td>10001012</td>\n",
       "      <td>Nguyễn Khánh Hòa</td>\n",
       "      <td>Nguyễn Khánh Hòa</td>\n",
       "      <td>NaN</td>\n",
       "      <td>5</td>\n",
       "      <td>Cực kì hài lòng</td>\n",
       "      <td>Tiki giao hàng nhanh. Sản phẩm đúng như mô tả,...</td>\n",
       "    </tr>\n",
       "    <tr>\n",
       "      <th>2</th>\n",
       "      <td>11763074</td>\n",
       "      <td>10001012</td>\n",
       "      <td>Toàn Phạm Khánh</td>\n",
       "      <td>Toàn Phạm Khánh</td>\n",
       "      <td>2019-04-17 15:42:45</td>\n",
       "      <td>5</td>\n",
       "      <td>Cực kì hài lòng</td>\n",
       "      <td>chất lượng camera rõ nét, chống mưa nắng tuyệt...</td>\n",
       "    </tr>\n",
       "    <tr>\n",
       "      <th>3</th>\n",
       "      <td>9909549</td>\n",
       "      <td>10001012</td>\n",
       "      <td>Nguyen Quang Minh</td>\n",
       "      <td>NaN</td>\n",
       "      <td>NaN</td>\n",
       "      <td>5</td>\n",
       "      <td>Rất hài lòng</td>\n",
       "      <td>Hàng được đóng gói cẩn thận, giao hàng nhanh ,...</td>\n",
       "    </tr>\n",
       "    <tr>\n",
       "      <th>4</th>\n",
       "      <td>1827148</td>\n",
       "      <td>10001012</td>\n",
       "      <td>Phạm Bá Đức</td>\n",
       "      <td>Phạm Bá Đức</td>\n",
       "      <td>NaN</td>\n",
       "      <td>5</td>\n",
       "      <td>Cực kì hài lòng</td>\n",
       "      <td>dễ cài đặt, chất lượng tốt, chế độ xem hồng ng...</td>\n",
       "    </tr>\n",
       "  </tbody>\n",
       "</table>\n",
       "</div>"
      ],
      "text/plain": [
       "   customer_id  product_id               name         full_name  \\\n",
       "0       709310    10001012   Lân Nguyễn Hoàng  Lân Nguyễn Hoàng   \n",
       "1     10701688    10001012   Nguyễn Khánh Hòa  Nguyễn Khánh Hòa   \n",
       "2     11763074    10001012    Toàn Phạm Khánh   Toàn Phạm Khánh   \n",
       "3      9909549    10001012  Nguyen Quang Minh               NaN   \n",
       "4      1827148    10001012        Phạm Bá Đức       Phạm Bá Đức   \n",
       "\n",
       "          created_time  rating               title  \\\n",
       "0                  NaN       3  Ko dùng đc thẻ nhớ   \n",
       "1                  NaN       5     Cực kì hài lòng   \n",
       "2  2019-04-17 15:42:45       5     Cực kì hài lòng   \n",
       "3                  NaN       5        Rất hài lòng   \n",
       "4                  NaN       5     Cực kì hài lòng   \n",
       "\n",
       "                                             content  \n",
       "0  Lúcđầu quên thông tin nên dùng 512gb thì ko đc...  \n",
       "1  Tiki giao hàng nhanh. Sản phẩm đúng như mô tả,...  \n",
       "2  chất lượng camera rõ nét, chống mưa nắng tuyệt...  \n",
       "3  Hàng được đóng gói cẩn thận, giao hàng nhanh ,...  \n",
       "4  dễ cài đặt, chất lượng tốt, chế độ xem hồng ng...  "
      ]
     },
     "execution_count": 10,
     "metadata": {},
     "output_type": "execute_result"
    }
   ],
   "source": [
    "reviews.head()"
   ]
  },
  {
   "cell_type": "code",
   "execution_count": 11,
   "metadata": {
    "executionInfo": {
     "elapsed": 21,
     "status": "aborted",
     "timestamp": 1676435522576,
     "user": {
      "displayName": "Lưu Nguyễn Khải Hoàn",
      "userId": "12754983180713265756"
     },
     "user_tz": -420
    },
    "id": "dPcQC_26p_ko"
   },
   "outputs": [
    {
     "name": "stdout",
     "output_type": "stream",
     "text": [
      "<class 'pandas.core.frame.DataFrame'>\n",
      "RangeIndex: 364099 entries, 0 to 364098\n",
      "Data columns (total 8 columns):\n",
      " #   Column        Non-Null Count   Dtype \n",
      "---  ------        --------------   ----- \n",
      " 0   customer_id   364099 non-null  int64 \n",
      " 1   product_id    364099 non-null  int64 \n",
      " 2   name          363669 non-null  object\n",
      " 3   full_name     329471 non-null  object\n",
      " 4   created_time  117340 non-null  object\n",
      " 5   rating        364099 non-null  int64 \n",
      " 6   title         364070 non-null  object\n",
      " 7   content       165794 non-null  object\n",
      "dtypes: int64(3), object(5)\n",
      "memory usage: 22.2+ MB\n"
     ]
    }
   ],
   "source": [
    "reviews.info()"
   ]
  },
  {
   "cell_type": "code",
   "execution_count": 12,
   "metadata": {
    "executionInfo": {
     "elapsed": 22,
     "status": "aborted",
     "timestamp": 1676435522577,
     "user": {
      "displayName": "Lưu Nguyễn Khải Hoàn",
      "userId": "12754983180713265756"
     },
     "user_tz": -420
    },
    "id": "oiW_t-w9q_SV"
   },
   "outputs": [
    {
     "data": {
      "text/plain": [
       "customer_id          0\n",
       "product_id           0\n",
       "name               430\n",
       "full_name        34628\n",
       "created_time    246759\n",
       "rating               0\n",
       "title               29\n",
       "content         198305\n",
       "dtype: int64"
      ]
     },
     "execution_count": 12,
     "metadata": {},
     "output_type": "execute_result"
    }
   ],
   "source": [
    "reviews.isnull().sum()"
   ]
  },
  {
   "cell_type": "code",
   "execution_count": 13,
   "metadata": {
    "executionInfo": {
     "elapsed": 25,
     "status": "aborted",
     "timestamp": 1676435522580,
     "user": {
      "displayName": "Lưu Nguyễn Khải Hoàn",
      "userId": "12754983180713265756"
     },
     "user_tz": -420
    },
    "id": "-Jzt20cQrQZ9"
   },
   "outputs": [
    {
     "data": {
      "text/plain": [
       "2349"
      ]
     },
     "execution_count": 13,
     "metadata": {},
     "output_type": "execute_result"
    }
   ],
   "source": [
    "reviews.duplicated().sum()"
   ]
  },
  {
   "cell_type": "code",
   "execution_count": 14,
   "metadata": {
    "executionInfo": {
     "elapsed": 28,
     "status": "aborted",
     "timestamp": 1676435522583,
     "user": {
      "displayName": "Lưu Nguyễn Khải Hoàn",
      "userId": "12754983180713265756"
     },
     "user_tz": -420
    },
    "id": "ibIkVeyMrSYc"
   },
   "outputs": [],
   "source": [
    "reviews=reviews.drop_duplicates()"
   ]
  },
  {
   "cell_type": "code",
   "execution_count": 15,
   "metadata": {
    "executionInfo": {
     "elapsed": 30,
     "status": "aborted",
     "timestamp": 1676435522585,
     "user": {
      "displayName": "Lưu Nguyễn Khải Hoàn",
      "userId": "12754983180713265756"
     },
     "user_tz": -420
    },
    "id": "x7knpmrvrWUt"
   },
   "outputs": [
    {
     "data": {
      "text/plain": [
       "0"
      ]
     },
     "execution_count": 15,
     "metadata": {},
     "output_type": "execute_result"
    }
   ],
   "source": [
    "reviews.duplicated().sum()"
   ]
  },
  {
   "cell_type": "code",
   "execution_count": 16,
   "metadata": {
    "executionInfo": {
     "elapsed": 30,
     "status": "aborted",
     "timestamp": 1676435522586,
     "user": {
      "displayName": "Lưu Nguyễn Khải Hoàn",
      "userId": "12754983180713265756"
     },
     "user_tz": -420
    },
    "id": "6Am7H_6gre9-"
   },
   "outputs": [],
   "source": [
    "stringcols = reviews.select_dtypes(include='object').columns\n",
    "reviews[stringcols] = reviews[stringcols].astype(\"str\")"
   ]
  },
  {
   "cell_type": "code",
   "execution_count": 17,
   "metadata": {
    "executionInfo": {
     "elapsed": 32,
     "status": "aborted",
     "timestamp": 1676435522588,
     "user": {
      "displayName": "Lưu Nguyễn Khải Hoàn",
      "userId": "12754983180713265756"
     },
     "user_tz": -420
    },
    "id": "07M0c2bBrleC"
   },
   "outputs": [
    {
     "name": "stderr",
     "output_type": "stream",
     "text": [
      "C:\\spark\\spark-3.3.1-bin-hadoop3\\python\\pyspark\\sql\\pandas\\conversion.py:474: FutureWarning: iteritems is deprecated and will be removed in a future version. Use .items instead.\n",
      "  for column, series in pdf.iteritems():\n",
      "C:\\spark\\spark-3.3.1-bin-hadoop3\\python\\pyspark\\sql\\pandas\\conversion.py:486: FutureWarning: iteritems is deprecated and will be removed in a future version. Use .items instead.\n",
      "  for column, series in pdf.iteritems():\n"
     ]
    },
    {
     "name": "stdout",
     "output_type": "stream",
     "text": [
      "root\n",
      " |-- customer_id: long (nullable = true)\n",
      " |-- product_id: long (nullable = true)\n",
      " |-- name: string (nullable = true)\n",
      " |-- full_name: string (nullable = true)\n",
      " |-- created_time: string (nullable = true)\n",
      " |-- rating: long (nullable = true)\n",
      " |-- title: string (nullable = true)\n",
      " |-- content: string (nullable = true)\n",
      "\n"
     ]
    }
   ],
   "source": [
    "data_sub=spark.createDataFrame(reviews) \n",
    "data_sub.printSchema()"
   ]
  },
  {
   "cell_type": "markdown",
   "metadata": {
    "id": "DWXFLm_5d-DK"
   },
   "source": [
    "###Clean and Prepare the Data"
   ]
  },
  {
   "cell_type": "code",
   "execution_count": 18,
   "metadata": {
    "colab": {
     "base_uri": "https://localhost:8080/"
    },
    "executionInfo": {
     "elapsed": 4198,
     "status": "ok",
     "timestamp": 1676435526754,
     "user": {
      "displayName": "Lưu Nguyễn Khải Hoàn",
      "userId": "12754983180713265756"
     },
     "user_tz": -420
    },
    "id": "YyQBA1kdr8vC",
    "outputId": "f13d68ea-888a-447f-bae5-cc8b192065cb"
   },
   "outputs": [
    {
     "name": "stdout",
     "output_type": "stream",
     "text": [
      "+-----------+----------+----------------+----------------+-------------------+------+------------------+--------------------+\n",
      "|customer_id|product_id|            name|       full_name|       created_time|rating|             title|             content|\n",
      "+-----------+----------+----------------+----------------+-------------------+------+------------------+--------------------+\n",
      "|     709310|  10001012|Lân Nguyễn Hoàng|Lân Nguyễn Hoàng|                nan|     3|Ko dùng đc thẻ nhớ|Lúcđầu quên thông...|\n",
      "|   10701688|  10001012|Nguyễn Khánh Hòa|Nguyễn Khánh Hòa|                nan|     5|   Cực kì hài lòng|Tiki giao hàng nh...|\n",
      "|   11763074|  10001012| Toàn Phạm Khánh| Toàn Phạm Khánh|2019-04-17 15:42:45|     5|   Cực kì hài lòng|chất lượng camera...|\n",
      "+-----------+----------+----------------+----------------+-------------------+------+------------------+--------------------+\n",
      "only showing top 3 rows\n",
      "\n"
     ]
    }
   ],
   "source": [
    "data_sub.show(3)"
   ]
  },
  {
   "cell_type": "code",
   "execution_count": 19,
   "metadata": {
    "executionInfo": {
     "elapsed": 6,
     "status": "ok",
     "timestamp": 1676435526755,
     "user": {
      "displayName": "Lưu Nguyễn Khải Hoàn",
      "userId": "12754983180713265756"
     },
     "user_tz": -420
    },
    "id": "9rPEPLtxgUpU"
   },
   "outputs": [],
   "source": [
    "data_sub = data_sub.select([ 'customer_id','product_id', 'rating'])"
   ]
  },
  {
   "cell_type": "code",
   "execution_count": 20,
   "metadata": {
    "executionInfo": {
     "elapsed": 5,
     "status": "ok",
     "timestamp": 1676435526755,
     "user": {
      "displayName": "Lưu Nguyễn Khải Hoàn",
      "userId": "12754983180713265756"
     },
     "user_tz": -420
    },
    "id": "VBP-rLepg6x7"
   },
   "outputs": [],
   "source": [
    "from pyspark.sql.types import DoubleType\n",
    "from pyspark.sql.functions import isnan, when, count, col, udf"
   ]
  },
  {
   "cell_type": "code",
   "execution_count": 21,
   "metadata": {
    "executionInfo": {
     "elapsed": 9,
     "status": "ok",
     "timestamp": 1676435527281,
     "user": {
      "displayName": "Lưu Nguyễn Khải Hoàn",
      "userId": "12754983180713265756"
     },
     "user_tz": -420
    },
    "id": "UrquUphFg8kz"
   },
   "outputs": [],
   "source": [
    "data_sub = data_sub.withColumn(\"rating\", data_sub[\"rating\"].cast(DoubleType()))"
   ]
  },
  {
   "cell_type": "code",
   "execution_count": 22,
   "metadata": {
    "colab": {
     "base_uri": "https://localhost:8080/"
    },
    "executionInfo": {
     "elapsed": 4133,
     "status": "ok",
     "timestamp": 1676435531406,
     "user": {
      "displayName": "Lưu Nguyễn Khải Hoàn",
      "userId": "12754983180713265756"
     },
     "user_tz": -420
    },
    "id": "g7BTKzDBg9uD",
    "outputId": "bccc2b19-0182-4710-ee7d-d1f72218de12"
   },
   "outputs": [
    {
     "name": "stdout",
     "output_type": "stream",
     "text": [
      "+-----------+----------+------+\n",
      "|customer_id|product_id|rating|\n",
      "+-----------+----------+------+\n",
      "|     709310|  10001012|   3.0|\n",
      "|   10701688|  10001012|   5.0|\n",
      "|   11763074|  10001012|   5.0|\n",
      "|    9909549|  10001012|   5.0|\n",
      "|    1827148|  10001012|   5.0|\n",
      "+-----------+----------+------+\n",
      "only showing top 5 rows\n",
      "\n"
     ]
    }
   ],
   "source": [
    "data_sub.show(5, truncate=True)"
   ]
  },
  {
   "cell_type": "code",
   "execution_count": 23,
   "metadata": {
    "colab": {
     "base_uri": "https://localhost:8080/",
     "height": 143
    },
    "executionInfo": {
     "elapsed": 1780,
     "status": "ok",
     "timestamp": 1676435533181,
     "user": {
      "displayName": "Lưu Nguyễn Khải Hoàn",
      "userId": "12754983180713265756"
     },
     "user_tz": -420
    },
    "id": "AuA7zDHcg_Cj",
    "outputId": "db172631-5bc1-4a88-b885-58ffa94583d9"
   },
   "outputs": [
    {
     "data": {
      "text/html": [
       "<div>\n",
       "<style scoped>\n",
       "    .dataframe tbody tr th:only-of-type {\n",
       "        vertical-align: middle;\n",
       "    }\n",
       "\n",
       "    .dataframe tbody tr th {\n",
       "        vertical-align: top;\n",
       "    }\n",
       "\n",
       "    .dataframe thead th {\n",
       "        text-align: right;\n",
       "    }\n",
       "</style>\n",
       "<table border=\"1\" class=\"dataframe\">\n",
       "  <thead>\n",
       "    <tr style=\"text-align: right;\">\n",
       "      <th></th>\n",
       "      <th>0</th>\n",
       "    </tr>\n",
       "  </thead>\n",
       "  <tbody>\n",
       "    <tr>\n",
       "      <th>customer_id</th>\n",
       "      <td>0</td>\n",
       "    </tr>\n",
       "    <tr>\n",
       "      <th>product_id</th>\n",
       "      <td>0</td>\n",
       "    </tr>\n",
       "    <tr>\n",
       "      <th>rating</th>\n",
       "      <td>0</td>\n",
       "    </tr>\n",
       "  </tbody>\n",
       "</table>\n",
       "</div>"
      ],
      "text/plain": [
       "             0\n",
       "customer_id  0\n",
       "product_id   0\n",
       "rating       0"
      ]
     },
     "execution_count": 23,
     "metadata": {},
     "output_type": "execute_result"
    }
   ],
   "source": [
    "data_sub.select([count(when(col(c).isNull(), c)).alias(c) for c in \n",
    "           data_sub.columns]).toPandas().T"
   ]
  },
  {
   "cell_type": "code",
   "execution_count": 24,
   "metadata": {
    "executionInfo": {
     "elapsed": 10237,
     "status": "ok",
     "timestamp": 1676435543413,
     "user": {
      "displayName": "Lưu Nguyễn Khải Hoàn",
      "userId": "12754983180713265756"
     },
     "user_tz": -420
    },
    "id": "fh0FAkYSjiyC"
   },
   "outputs": [],
   "source": [
    "users = data_sub.select(\"customer_id\").distinct().count()\n",
    "products = data_sub.select(\"product_id\").distinct().count()\n",
    "numerator = data_sub.count()"
   ]
  },
  {
   "cell_type": "code",
   "execution_count": 25,
   "metadata": {
    "colab": {
     "base_uri": "https://localhost:8080/",
     "height": 69
    },
    "executionInfo": {
     "elapsed": 21,
     "status": "ok",
     "timestamp": 1676435543414,
     "user": {
      "displayName": "Lưu Nguyễn Khải Hoàn",
      "userId": "12754983180713265756"
     },
     "user_tz": -420
    },
    "id": "fRO_o-7vjj71",
    "outputId": "c485e42a-3913-498e-91c7-ffc23949075d"
   },
   "outputs": [
    {
     "data": {
      "text/plain": [
       "361750"
      ]
     },
     "metadata": {},
     "output_type": "display_data"
    },
    {
     "data": {
      "text/plain": [
       "251491"
      ]
     },
     "metadata": {},
     "output_type": "display_data"
    },
    {
     "data": {
      "text/plain": [
       "4218"
      ]
     },
     "metadata": {},
     "output_type": "display_data"
    }
   ],
   "source": [
    "display(numerator, users, products)"
   ]
  },
  {
   "cell_type": "code",
   "execution_count": 26,
   "metadata": {
    "colab": {
     "base_uri": "https://localhost:8080/"
    },
    "executionInfo": {
     "elapsed": 17,
     "status": "ok",
     "timestamp": 1676435543415,
     "user": {
      "displayName": "Lưu Nguyễn Khải Hoàn",
      "userId": "12754983180713265756"
     },
     "user_tz": -420
    },
    "id": "hUEdI44njmj4",
    "outputId": "22816954-fd52-4ad8-dc02-b2146575f4ca"
   },
   "outputs": [
    {
     "data": {
      "text/plain": [
       "1060789038"
      ]
     },
     "execution_count": 26,
     "metadata": {},
     "output_type": "execute_result"
    }
   ],
   "source": [
    "denominator = users * products\n",
    "denominator"
   ]
  },
  {
   "cell_type": "code",
   "execution_count": 27,
   "metadata": {
    "colab": {
     "base_uri": "https://localhost:8080/"
    },
    "executionInfo": {
     "elapsed": 13,
     "status": "ok",
     "timestamp": 1676435543415,
     "user": {
      "displayName": "Lưu Nguyễn Khải Hoàn",
      "userId": "12754983180713265756"
     },
     "user_tz": -420
    },
    "id": "GI00-94CjntN",
    "outputId": "4646f252-e56a-4294-ed71-d597cbc7e0e6"
   },
   "outputs": [
    {
     "name": "stdout",
     "output_type": "stream",
     "text": [
      "Sparsity: \n"
     ]
    },
    {
     "data": {
      "text/plain": [
       "(None, 0.9996589802618228)"
      ]
     },
     "execution_count": 27,
     "metadata": {},
     "output_type": "execute_result"
    }
   ],
   "source": [
    "sparsity = 1 - (numerator*1.0 / denominator)\n",
    "print (\"Sparsity: \"), sparsity"
   ]
  },
  {
   "cell_type": "code",
   "execution_count": 28,
   "metadata": {
    "executionInfo": {
     "elapsed": 10,
     "status": "ok",
     "timestamp": 1676435543416,
     "user": {
      "displayName": "Lưu Nguyễn Khải Hoàn",
      "userId": "12754983180713265756"
     },
     "user_tz": -420
    },
    "id": "BdvXfa9Yjouj"
   },
   "outputs": [],
   "source": [
    "from pyspark.ml.evaluation import RegressionEvaluator\n",
    "from pyspark.ml.recommendation import ALS"
   ]
  },
  {
   "cell_type": "code",
   "execution_count": 29,
   "metadata": {
    "executionInfo": {
     "elapsed": 11,
     "status": "ok",
     "timestamp": 1676435543417,
     "user": {
      "displayName": "Lưu Nguyễn Khải Hoàn",
      "userId": "12754983180713265756"
     },
     "user_tz": -420
    },
    "id": "HUikycAejqFM"
   },
   "outputs": [],
   "source": [
    "from pyspark.ml.feature import StringIndexer\n",
    "from pyspark.ml import Pipeline\n",
    "from pyspark.sql.functions import col\n",
    "import numpy as np"
   ]
  },
  {
   "cell_type": "markdown",
   "metadata": {
    "id": "vrpZlHqMc0ng"
   },
   "source": [
    "###Feature Transformations"
   ]
  },
  {
   "cell_type": "code",
   "execution_count": 30,
   "metadata": {
    "executionInfo": {
     "elapsed": 6242,
     "status": "ok",
     "timestamp": 1676435549649,
     "user": {
      "displayName": "Lưu Nguyễn Khải Hoàn",
      "userId": "12754983180713265756"
     },
     "user_tz": -420
    },
    "id": "Hl6qmEtSjq_Q"
   },
   "outputs": [],
   "source": [
    "indexer = StringIndexer(inputCol='product_id', \n",
    "                        outputCol='product_id_idx')\n",
    "\n",
    "indexer_model = indexer.fit(data_sub)\n",
    "\n",
    "data_indexed = indexer_model.transform(data_sub)\n",
    "\n",
    "indexer1 = StringIndexer(inputCol='customer_id', \n",
    "                         outputCol='customer_id_idx')\n",
    "indexer1_model = indexer1.fit(data_indexed)\n",
    "data_indexed = indexer1_model.transform(data_indexed)"
   ]
  },
  {
   "cell_type": "code",
   "execution_count": 31,
   "metadata": {
    "colab": {
     "base_uri": "https://localhost:8080/"
    },
    "executionInfo": {
     "elapsed": 4678,
     "status": "ok",
     "timestamp": 1676435554322,
     "user": {
      "displayName": "Lưu Nguyễn Khải Hoàn",
      "userId": "12754983180713265756"
     },
     "user_tz": -420
    },
    "id": "DAyd0494jr-x",
    "outputId": "b62b2a78-1579-4100-b451-2321400162d3"
   },
   "outputs": [
    {
     "name": "stdout",
     "output_type": "stream",
     "text": [
      "+-----------+----------+------+--------------+---------------+\n",
      "|customer_id|product_id|rating|product_id_idx|customer_id_idx|\n",
      "+-----------+----------+------+--------------+---------------+\n",
      "|     709310|  10001012|   3.0|        2458.0|       216812.0|\n",
      "|   10701688|  10001012|   5.0|        2458.0|        24473.0|\n",
      "|   11763074|  10001012|   5.0|        2458.0|        26843.0|\n",
      "|    9909549|  10001012|   5.0|        2458.0|         3377.0|\n",
      "|    1827148|  10001012|   5.0|        2458.0|          396.0|\n",
      "+-----------+----------+------+--------------+---------------+\n",
      "only showing top 5 rows\n",
      "\n"
     ]
    }
   ],
   "source": [
    "data_indexed.show(5, truncate=True)"
   ]
  },
  {
   "cell_type": "code",
   "execution_count": 32,
   "metadata": {
    "colab": {
     "base_uri": "https://localhost:8080/",
     "height": 206
    },
    "executionInfo": {
     "elapsed": 1894,
     "status": "ok",
     "timestamp": 1676435556196,
     "user": {
      "displayName": "Lưu Nguyễn Khải Hoàn",
      "userId": "12754983180713265756"
     },
     "user_tz": -420
    },
    "id": "uROqvCnhjtDX",
    "outputId": "b03d097f-a856-4306-ba63-6da7a23c3e3d"
   },
   "outputs": [
    {
     "data": {
      "text/html": [
       "<div>\n",
       "<style scoped>\n",
       "    .dataframe tbody tr th:only-of-type {\n",
       "        vertical-align: middle;\n",
       "    }\n",
       "\n",
       "    .dataframe tbody tr th {\n",
       "        vertical-align: top;\n",
       "    }\n",
       "\n",
       "    .dataframe thead th {\n",
       "        text-align: right;\n",
       "    }\n",
       "</style>\n",
       "<table border=\"1\" class=\"dataframe\">\n",
       "  <thead>\n",
       "    <tr style=\"text-align: right;\">\n",
       "      <th></th>\n",
       "      <th>0</th>\n",
       "    </tr>\n",
       "  </thead>\n",
       "  <tbody>\n",
       "    <tr>\n",
       "      <th>customer_id</th>\n",
       "      <td>0</td>\n",
       "    </tr>\n",
       "    <tr>\n",
       "      <th>product_id</th>\n",
       "      <td>0</td>\n",
       "    </tr>\n",
       "    <tr>\n",
       "      <th>rating</th>\n",
       "      <td>0</td>\n",
       "    </tr>\n",
       "    <tr>\n",
       "      <th>product_id_idx</th>\n",
       "      <td>0</td>\n",
       "    </tr>\n",
       "    <tr>\n",
       "      <th>customer_id_idx</th>\n",
       "      <td>0</td>\n",
       "    </tr>\n",
       "  </tbody>\n",
       "</table>\n",
       "</div>"
      ],
      "text/plain": [
       "                 0\n",
       "customer_id      0\n",
       "product_id       0\n",
       "rating           0\n",
       "product_id_idx   0\n",
       "customer_id_idx  0"
      ]
     },
     "execution_count": 32,
     "metadata": {},
     "output_type": "execute_result"
    }
   ],
   "source": [
    "data_indexed.select([count(when(col(c).isNull(), c)).alias(c) for c in \n",
    "           data_indexed.columns]).toPandas().T"
   ]
  },
  {
   "cell_type": "markdown",
   "metadata": {
    "id": "r-Mj_3UYccSY"
   },
   "source": [
    "Chia train, test với tỉ lệ 8/2"
   ]
  },
  {
   "cell_type": "code",
   "execution_count": 33,
   "metadata": {
    "executionInfo": {
     "elapsed": 7,
     "status": "ok",
     "timestamp": 1676435556197,
     "user": {
      "displayName": "Lưu Nguyễn Khải Hoàn",
      "userId": "12754983180713265756"
     },
     "user_tz": -420
    },
    "id": "wTYlCwbKjuHI"
   },
   "outputs": [],
   "source": [
    "(training, test) = data_indexed.randomSplit([0.8, 0.2])"
   ]
  },
  {
   "cell_type": "markdown",
   "metadata": {
    "id": "Nej0DMKuc6Qd"
   },
   "source": [
    "###The Model"
   ]
  },
  {
   "cell_type": "code",
   "execution_count": 36,
   "metadata": {
    "executionInfo": {
     "elapsed": 6,
     "status": "ok",
     "timestamp": 1676435556198,
     "user": {
      "displayName": "Lưu Nguyễn Khải Hoàn",
      "userId": "12754983180713265756"
     },
     "user_tz": -420
    },
    "id": "cyxaBAIYjvlX"
   },
   "outputs": [],
   "source": [
    "from pyspark.ml.evaluation import RegressionEvaluator\n",
    "from pyspark.ml.recommendation import ALS\n",
    "from time import time"
   ]
  },
  {
   "cell_type": "code",
   "execution_count": 105,
   "metadata": {
    "id": "GbE2fE_Ejxv4"
   },
   "outputs": [],
   "source": [
    "t0 = time()\n",
    "als = ALS(maxIter=10, \n",
    "          regParam=0.3,           \n",
    "          rank = 20,\n",
    "          userCol=\"customer_id_idx\", \n",
    "          itemCol=\"product_id_idx\", \n",
    "          ratingCol=\"rating\", \n",
    "          coldStartStrategy=\"drop\",\n",
    "          nonnegative=True)\n",
    "model = als.fit(training)\n",
    "t1 = time()"
   ]
  },
  {
   "cell_type": "code",
   "execution_count": 107,
   "metadata": {},
   "outputs": [],
   "source": [
    "# import joblib\n",
    "\n",
    "# joblib.dump(als, \"als.joblib\")"
   ]
  },
  {
   "cell_type": "code",
   "execution_count": 108,
   "metadata": {
    "id": "QROksnJVqufn"
   },
   "outputs": [],
   "source": [
    "total_time = t1 - t0"
   ]
  },
  {
   "cell_type": "code",
   "execution_count": 109,
   "metadata": {
    "colab": {
     "base_uri": "https://localhost:8080/"
    },
    "executionInfo": {
     "elapsed": 21,
     "status": "ok",
     "timestamp": 1676420358183,
     "user": {
      "displayName": "Lưu Nguyễn Khải Hoàn",
      "userId": "12754983180713265756"
     },
     "user_tz": -420
    },
    "id": "O1VXX1j9qwOq",
    "outputId": "480daa8a-1cd0-4b56-bffd-6e4ed8cb6952"
   },
   "outputs": [
    {
     "data": {
      "text/plain": [
       "71.44712042808533"
      ]
     },
     "execution_count": 109,
     "metadata": {},
     "output_type": "execute_result"
    }
   ],
   "source": [
    "total_time"
   ]
  },
  {
   "cell_type": "markdown",
   "metadata": {
    "id": "DqiDL5P8c-1U"
   },
   "source": [
    "### Combine results"
   ]
  },
  {
   "cell_type": "code",
   "execution_count": 110,
   "metadata": {
    "id": "JvezLd28qw_8"
   },
   "outputs": [],
   "source": [
    "predictions = model.transform(test)"
   ]
  },
  {
   "cell_type": "code",
   "execution_count": 111,
   "metadata": {
    "colab": {
     "base_uri": "https://localhost:8080/"
    },
    "executionInfo": {
     "elapsed": 12581,
     "status": "ok",
     "timestamp": 1676420370748,
     "user": {
      "displayName": "Lưu Nguyễn Khải Hoàn",
      "userId": "12754983180713265756"
     },
     "user_tz": -420
    },
    "id": "xqlOuDndqx7U",
    "outputId": "0460fc1a-9463-432e-b9f4-4503885a87f6"
   },
   "outputs": [
    {
     "name": "stdout",
     "output_type": "stream",
     "text": [
      "+-----------+----------+------+--------------+---------------+----------+\n",
      "|customer_id|product_id|rating|product_id_idx|customer_id_idx|prediction|\n",
      "+-----------+----------+------+--------------+---------------+----------+\n",
      "|    6889539|   3524487|   5.0|         148.0|           18.0| 4.1951337|\n",
      "|     316783|   2902221|   5.0|         833.0|          176.0| 4.7331886|\n",
      "|    5916266|   3524487|   3.0|         148.0|          183.0| 3.8889978|\n",
      "|   10370405|   3524487|   3.0|         148.0|          269.0| 3.7850494|\n",
      "|    7206266|    416985|   5.0|         471.0|          331.0|  3.964945|\n",
      "|    5681270|   3524487|   2.0|         148.0|          601.0| 3.9828901|\n",
      "|    1389356|    416985|   4.0|         471.0|          704.0| 3.5242524|\n",
      "|    6988001|    416985|   5.0|         471.0|          859.0| 4.1097093|\n",
      "|   10839988|  13525399|   5.0|        2366.0|          932.0| 4.0109243|\n",
      "|    1837031|  10697859|   5.0|        1959.0|         1067.0|  4.531327|\n",
      "+-----------+----------+------+--------------+---------------+----------+\n",
      "only showing top 10 rows\n",
      "\n"
     ]
    }
   ],
   "source": [
    "predictions.show(10)"
   ]
  },
  {
   "cell_type": "code",
   "execution_count": 113,
   "metadata": {
    "id": "ScBZyQg-qy1N"
   },
   "outputs": [],
   "source": [
    "evaluator = RegressionEvaluator(metricName=\"rmse\", \n",
    "                                labelCol=\"rating\",\n",
    "                                predictionCol=\"prediction\")\n",
    "rmse = evaluator.evaluate(predictions)"
   ]
  },
  {
   "cell_type": "code",
   "execution_count": 114,
   "metadata": {
    "colab": {
     "base_uri": "https://localhost:8080/"
    },
    "executionInfo": {
     "elapsed": 25,
     "status": "ok",
     "timestamp": 1676420382143,
     "user": {
      "displayName": "Lưu Nguyễn Khải Hoàn",
      "userId": "12754983180713265756"
     },
     "user_tz": -420
    },
    "id": "wbCcvARDq0aj",
    "outputId": "8a0a6570-5d81-42f6-81a4-508538060857"
   },
   "outputs": [
    {
     "name": "stdout",
     "output_type": "stream",
     "text": [
      "Root-mean-square error = 1.1415065368363497\n"
     ]
    }
   ],
   "source": [
    "print(\"Root-mean-square error = \" + str(rmse))"
   ]
  },
  {
   "cell_type": "markdown",
   "metadata": {
    "id": "_xIMlF1Gvflm"
   },
   "source": [
    "### CrossValidator"
   ]
  },
  {
   "cell_type": "code",
   "execution_count": 115,
   "metadata": {
    "id": "Mm3Z470ovfSj"
   },
   "outputs": [],
   "source": [
    "from pyspark.ml.tuning import ParamGridBuilder, CrossValidator"
   ]
  },
  {
   "cell_type": "code",
   "execution_count": 116,
   "metadata": {
    "id": "Fjlw1o6XwFCg"
   },
   "outputs": [],
   "source": [
    "# Add hyperparameters and their respective values to param_grid\n",
    "param_grid = ParamGridBuilder() \\\n",
    "            .addGrid(als.rank, [10, 20, 30]) \\\n",
    "            .addGrid(als.regParam, [.05, .1, .15, 0.2, 0.25, 0.3]) \\\n",
    "            .build()"
   ]
  },
  {
   "cell_type": "code",
   "execution_count": 117,
   "metadata": {
    "id": "KGSfFaDHwE_4"
   },
   "outputs": [],
   "source": [
    "crossvalidation = CrossValidator(estimator = als, estimatorParamMaps = param_grid, evaluator = evaluator, numFolds=5)"
   ]
  },
  {
   "cell_type": "code",
   "execution_count": 118,
   "metadata": {
    "id": "qX0ZVLWTwE88"
   },
   "outputs": [],
   "source": [
    "model = crossvalidation.fit(training)"
   ]
  },
  {
   "cell_type": "code",
   "execution_count": 119,
   "metadata": {
    "id": "yKBU83BywE53"
   },
   "outputs": [],
   "source": [
    "#Extract best model from the cv model above\n",
    "best_model = model.bestModel"
   ]
  },
  {
   "cell_type": "code",
   "execution_count": 120,
   "metadata": {
    "colab": {
     "base_uri": "https://localhost:8080/"
    },
    "executionInfo": {
     "elapsed": 18,
     "status": "ok",
     "timestamp": 1676430357260,
     "user": {
      "displayName": "Lưu Nguyễn Khải Hoàn",
      "userId": "12754983180713265756"
     },
     "user_tz": -420
    },
    "id": "IA2DH91XwEto",
    "outputId": "5204fec8-762f-4cfa-84ac-3221788e5939"
   },
   "outputs": [
    {
     "name": "stdout",
     "output_type": "stream",
     "text": [
      "*Best Model*\n",
      "  Rank: 10 -  MaxIter: 10 -  RegParam: 0.3\n"
     ]
    }
   ],
   "source": [
    "print(\"*Best Model*\")\n",
    "print(\"  Rank:\", best_model._java_obj.parent().getRank(),\"-  MaxIter:\", best_model._java_obj.parent().getMaxIter(), \"-  RegParam:\", best_model._java_obj.parent().getRegParam())"
   ]
  },
  {
   "cell_type": "code",
   "execution_count": 121,
   "metadata": {
    "colab": {
     "base_uri": "https://localhost:8080/"
    },
    "executionInfo": {
     "elapsed": 10863,
     "status": "ok",
     "timestamp": 1676430368118,
     "user": {
      "displayName": "Lưu Nguyễn Khải Hoàn",
      "userId": "12754983180713265756"
     },
     "user_tz": -420
    },
    "id": "xIjLEkGfwXoo",
    "outputId": "9da38c67-77c7-4512-cece-7f1fd15983f0"
   },
   "outputs": [
    {
     "name": "stdout",
     "output_type": "stream",
     "text": [
      "RMSE value after cross validation is:  1.1373202245102003\n"
     ]
    }
   ],
   "source": [
    "print(\"RMSE value after cross validation is: \", evaluator.evaluate(best_model.transform(test)))"
   ]
  },
  {
   "cell_type": "markdown",
   "metadata": {
    "id": "YdaiY3TeEqd4"
   },
   "source": [
    "### Run Model với best params"
   ]
  },
  {
   "cell_type": "code",
   "execution_count": 37,
   "metadata": {
    "executionInfo": {
     "elapsed": 85650,
     "status": "ok",
     "timestamp": 1676435647403,
     "user": {
      "displayName": "Lưu Nguyễn Khải Hoàn",
      "userId": "12754983180713265756"
     },
     "user_tz": -420
    },
    "id": "Mi2oC4chEpa-"
   },
   "outputs": [],
   "source": [
    "t0 = time()\n",
    "als = ALS(maxIter=10, \n",
    "          regParam=0.3,           \n",
    "          rank = 10,\n",
    "          userCol=\"customer_id_idx\", \n",
    "          itemCol=\"product_id_idx\", \n",
    "          ratingCol=\"rating\", \n",
    "          coldStartStrategy=\"drop\",\n",
    "          nonnegative=True)\n",
    "model = als.fit(training)\n",
    "t1 = time()"
   ]
  },
  {
   "cell_type": "code",
   "execution_count": 38,
   "metadata": {
    "executionInfo": {
     "elapsed": 38,
     "status": "ok",
     "timestamp": 1676435647404,
     "user": {
      "displayName": "Lưu Nguyễn Khải Hoàn",
      "userId": "12754983180713265756"
     },
     "user_tz": -420
    },
    "id": "xYs-0oo1Ey9S"
   },
   "outputs": [],
   "source": [
    "total_time = t1 - t0"
   ]
  },
  {
   "cell_type": "code",
   "execution_count": 39,
   "metadata": {
    "colab": {
     "base_uri": "https://localhost:8080/"
    },
    "executionInfo": {
     "elapsed": 14,
     "status": "ok",
     "timestamp": 1676435647405,
     "user": {
      "displayName": "Lưu Nguyễn Khải Hoàn",
      "userId": "12754983180713265756"
     },
     "user_tz": -420
    },
    "id": "PVOyIi3BE1QB",
    "outputId": "c531095b-2d49-4413-8d9f-3bd7840d5f34"
   },
   "outputs": [
    {
     "data": {
      "text/plain": [
       "68.70026683807373"
      ]
     },
     "execution_count": 39,
     "metadata": {},
     "output_type": "execute_result"
    }
   ],
   "source": [
    "total_time"
   ]
  },
  {
   "cell_type": "code",
   "execution_count": 40,
   "metadata": {
    "executionInfo": {
     "elapsed": 11,
     "status": "ok",
     "timestamp": 1676435647406,
     "user": {
      "displayName": "Lưu Nguyễn Khải Hoàn",
      "userId": "12754983180713265756"
     },
     "user_tz": -420
    },
    "id": "57nKKqUaE4Cq"
   },
   "outputs": [],
   "source": [
    "predictions = model.transform(test)"
   ]
  },
  {
   "cell_type": "code",
   "execution_count": 41,
   "metadata": {
    "colab": {
     "base_uri": "https://localhost:8080/"
    },
    "executionInfo": {
     "elapsed": 8969,
     "status": "ok",
     "timestamp": 1676435656365,
     "user": {
      "displayName": "Lưu Nguyễn Khải Hoàn",
      "userId": "12754983180713265756"
     },
     "user_tz": -420
    },
    "id": "Ka1EJgZ1E_VP",
    "outputId": "93446502-78a9-4c37-a1ef-f68a8efdb4bc"
   },
   "outputs": [
    {
     "name": "stdout",
     "output_type": "stream",
     "text": [
      "+-----------+----------+------+--------------+---------------+----------+\n",
      "|customer_id|product_id|rating|product_id_idx|customer_id_idx|prediction|\n",
      "+-----------+----------+------+--------------+---------------+----------+\n",
      "|    6889539|   3524487|   5.0|         148.0|           18.0| 4.1080813|\n",
      "|     316783|   2902221|   5.0|         833.0|          176.0|  4.563879|\n",
      "|    5916266|   3524487|   3.0|         148.0|          183.0| 3.6867511|\n",
      "|   10370405|   3524487|   3.0|         148.0|          269.0|  3.726895|\n",
      "|    7206266|    416985|   5.0|         471.0|          331.0|  4.068966|\n",
      "|    5681270|   3524487|   2.0|         148.0|          601.0| 4.1114845|\n",
      "|    1389356|    416985|   4.0|         471.0|          704.0| 3.5187657|\n",
      "|    6988001|    416985|   5.0|         471.0|          859.0| 3.9974825|\n",
      "|   10839988|  13525399|   5.0|        2366.0|          932.0| 4.0862813|\n",
      "|    1837031|  10697859|   5.0|        1959.0|         1067.0| 4.5705156|\n",
      "+-----------+----------+------+--------------+---------------+----------+\n",
      "only showing top 10 rows\n",
      "\n"
     ]
    }
   ],
   "source": [
    "predictions.show(10)"
   ]
  },
  {
   "cell_type": "code",
   "execution_count": 42,
   "metadata": {
    "executionInfo": {
     "elapsed": 10449,
     "status": "ok",
     "timestamp": 1676435666793,
     "user": {
      "displayName": "Lưu Nguyễn Khải Hoàn",
      "userId": "12754983180713265756"
     },
     "user_tz": -420
    },
    "id": "Uuz7TT6cE7Vn"
   },
   "outputs": [],
   "source": [
    "evaluator = RegressionEvaluator(metricName=\"rmse\", \n",
    "                                labelCol=\"rating\",\n",
    "                                predictionCol=\"prediction\")\n",
    "rmse = evaluator.evaluate(predictions)"
   ]
  },
  {
   "cell_type": "code",
   "execution_count": 43,
   "metadata": {
    "colab": {
     "base_uri": "https://localhost:8080/"
    },
    "executionInfo": {
     "elapsed": 39,
     "status": "ok",
     "timestamp": 1676435666794,
     "user": {
      "displayName": "Lưu Nguyễn Khải Hoàn",
      "userId": "12754983180713265756"
     },
     "user_tz": -420
    },
    "id": "PJqxsR1pFAdV",
    "outputId": "246f2b7d-f957-4832-937a-118e04eab99f"
   },
   "outputs": [
    {
     "name": "stdout",
     "output_type": "stream",
     "text": [
      "Root-mean-square error = 1.1373202245102003\n"
     ]
    }
   ],
   "source": [
    "print(\"Root-mean-square error = \" + str(rmse))"
   ]
  },
  {
   "cell_type": "code",
   "execution_count": 80,
   "metadata": {},
   "outputs": [],
   "source": [
    "model.write().save(\"Project_2_ALS_model\")"
   ]
  },
  {
   "cell_type": "markdown",
   "metadata": {
    "id": "BPWhhyUHdJFN"
   },
   "source": [
    "### Recommend For AllUsers"
   ]
  },
  {
   "cell_type": "code",
   "execution_count": 86,
   "metadata": {
    "executionInfo": {
     "elapsed": 925,
     "status": "ok",
     "timestamp": 1676435667686,
     "user": {
      "displayName": "Lưu Nguyễn Khải Hoàn",
      "userId": "12754983180713265756"
     },
     "user_tz": -420
    },
    "id": "1eSCsRf9q1RN"
   },
   "outputs": [],
   "source": [
    "#user_recs = model.recommendForAllUsers(5) \n",
    "user_recs=model.recommendForAllUsers(3)"
   ]
  },
  {
   "cell_type": "code",
   "execution_count": 87,
   "metadata": {
    "colab": {
     "base_uri": "https://localhost:8080/"
    },
    "executionInfo": {
     "elapsed": 82475,
     "status": "ok",
     "timestamp": 1676435750157,
     "user": {
      "displayName": "Lưu Nguyễn Khải Hoàn",
      "userId": "12754983180713265756"
     },
     "user_tz": -420
    },
    "id": "LyHpBoETriFI",
    "outputId": "8b00d4c1-60dc-427b-998a-7899337c715b"
   },
   "outputs": [
    {
     "name": "stdout",
     "output_type": "stream",
     "text": [
      "+---------------+--------------------------------------------------------+\n",
      "|customer_id_idx|recommendations                                         |\n",
      "+---------------+--------------------------------------------------------+\n",
      "|1              |[{4053, 5.4408746}, {4204, 5.3138833}, {3998, 5.03994}] |\n",
      "|3              |[{4053, 4.923547}, {4204, 4.794281}, {4031, 4.7790937}] |\n",
      "|4              |[{4053, 5.588514}, {4204, 5.4917536}, {4031, 5.335402}] |\n",
      "|5              |[{4204, 5.471844}, {4053, 5.4504952}, {4031, 5.3807535}]|\n",
      "|6              |[{4053, 5.6020136}, {4204, 5.420043}, {4031, 5.2568965}]|\n",
      "+---------------+--------------------------------------------------------+\n",
      "only showing top 5 rows\n",
      "\n"
     ]
    }
   ],
   "source": [
    "user_recs.show(5, truncate=False)"
   ]
  },
  {
   "cell_type": "code",
   "execution_count": 88,
   "metadata": {
    "colab": {
     "base_uri": "https://localhost:8080/"
    },
    "executionInfo": {
     "elapsed": 63130,
     "status": "ok",
     "timestamp": 1676435813263,
     "user": {
      "displayName": "Lưu Nguyễn Khải Hoàn",
      "userId": "12754983180713265756"
     },
     "user_tz": -420
    },
    "id": "XXKM8Vx8ri_H",
    "outputId": "10ad7b7b-04c6-47c0-dfda-f547460b63f7"
   },
   "outputs": [
    {
     "data": {
      "text/plain": [
       "211662"
      ]
     },
     "execution_count": 88,
     "metadata": {},
     "output_type": "execute_result"
    }
   ],
   "source": [
    "user_recs.count()"
   ]
  },
  {
   "cell_type": "code",
   "execution_count": 89,
   "metadata": {
    "colab": {
     "base_uri": "https://localhost:8080/"
    },
    "executionInfo": {
     "elapsed": 78842,
     "status": "ok",
     "timestamp": 1676435892072,
     "user": {
      "displayName": "Lưu Nguyễn Khải Hoàn",
      "userId": "12754983180713265756"
     },
     "user_tz": -420
    },
    "id": "f0zoh3NZrkBG",
    "outputId": "1344a39f-48f3-4214-dd01-03c8a398f660"
   },
   "outputs": [
    {
     "name": "stdout",
     "output_type": "stream",
     "text": [
      "[Row(product_id_idx=4053, rating=5.4408745765686035), Row(product_id_idx=4204, rating=5.313883304595947), Row(product_id_idx=3998, rating=5.039939880371094)]\n",
      "\n",
      "\n",
      "[Row(product_id_idx=4053, rating=4.92354679107666), Row(product_id_idx=4204, rating=4.794281005859375), Row(product_id_idx=4031, rating=4.7790937423706055)]\n",
      "\n",
      "\n",
      "[Row(product_id_idx=4053, rating=5.5885138511657715), Row(product_id_idx=4204, rating=5.491753578186035), Row(product_id_idx=4031, rating=5.335402011871338)]\n",
      "\n",
      "\n",
      "[Row(product_id_idx=4204, rating=5.47184419631958), Row(product_id_idx=4053, rating=5.45049524307251), Row(product_id_idx=4031, rating=5.380753517150879)]\n",
      "\n",
      "\n",
      "[Row(product_id_idx=4053, rating=5.60201358795166), Row(product_id_idx=4204, rating=5.420042991638184), Row(product_id_idx=4031, rating=5.256896495819092)]\n",
      "\n",
      "\n"
     ]
    }
   ],
   "source": [
    "for user in user_recs.head(5):\n",
    "    print(user.recommendations)\n",
    "    print(\"\\n\")"
   ]
  },
  {
   "cell_type": "code",
   "execution_count": 90,
   "metadata": {
    "executionInfo": {
     "elapsed": 35,
     "status": "ok",
     "timestamp": 1676435892074,
     "user": {
      "displayName": "Lưu Nguyễn Khải Hoàn",
      "userId": "12754983180713265756"
     },
     "user_tz": -420
    },
    "id": "25wZy7qkrmuZ"
   },
   "outputs": [],
   "source": [
    "df_customer_id_customer_id_idx = data_indexed.select('customer_id_idx', 'customer_id').distinct()"
   ]
  },
  {
   "cell_type": "code",
   "execution_count": 91,
   "metadata": {
    "colab": {
     "base_uri": "https://localhost:8080/"
    },
    "executionInfo": {
     "elapsed": 3848,
     "status": "ok",
     "timestamp": 1676435895889,
     "user": {
      "displayName": "Lưu Nguyễn Khải Hoàn",
      "userId": "12754983180713265756"
     },
     "user_tz": -420
    },
    "id": "sdbJ9IinrnlU",
    "outputId": "abea243e-77fd-4b8b-93bf-dbeadd8f9dcd"
   },
   "outputs": [
    {
     "data": {
      "text/plain": [
       "251491"
      ]
     },
     "execution_count": 91,
     "metadata": {},
     "output_type": "execute_result"
    }
   ],
   "source": [
    "df_customer_id_customer_id_idx.count()"
   ]
  },
  {
   "cell_type": "code",
   "execution_count": 92,
   "metadata": {
    "colab": {
     "base_uri": "https://localhost:8080/"
    },
    "executionInfo": {
     "elapsed": 3964,
     "status": "ok",
     "timestamp": 1676435899844,
     "user": {
      "displayName": "Lưu Nguyễn Khải Hoàn",
      "userId": "12754983180713265756"
     },
     "user_tz": -420
    },
    "id": "bj1b0N2sroYG",
    "outputId": "3efa7123-9b77-4d3c-f482-3ab76cc0266f"
   },
   "outputs": [
    {
     "name": "stdout",
     "output_type": "stream",
     "text": [
      "+---------------+-----------+\n",
      "|customer_id_idx|customer_id|\n",
      "+---------------+-----------+\n",
      "|       101626.0|   13800460|\n",
      "|       194826.0|    5493687|\n",
      "|        47896.0|     560271|\n",
      "|         5582.0|    8311997|\n",
      "|        36226.0|    1671910|\n",
      "+---------------+-----------+\n",
      "only showing top 5 rows\n",
      "\n"
     ]
    }
   ],
   "source": [
    "df_customer_id_customer_id_idx.show(5)"
   ]
  },
  {
   "cell_type": "code",
   "execution_count": 93,
   "metadata": {
    "executionInfo": {
     "elapsed": 14,
     "status": "ok",
     "timestamp": 1676435899845,
     "user": {
      "displayName": "Lưu Nguyễn Khải Hoàn",
      "userId": "12754983180713265756"
     },
     "user_tz": -420
    },
    "id": "ZMEQjjZYrpeT"
   },
   "outputs": [],
   "source": [
    "df_product_id_product_id_idx = data_indexed.select('product_id_idx', 'product_id').distinct()"
   ]
  },
  {
   "cell_type": "code",
   "execution_count": 94,
   "metadata": {
    "colab": {
     "base_uri": "https://localhost:8080/"
    },
    "executionInfo": {
     "elapsed": 3621,
     "status": "ok",
     "timestamp": 1676435903452,
     "user": {
      "displayName": "Lưu Nguyễn Khải Hoàn",
      "userId": "12754983180713265756"
     },
     "user_tz": -420
    },
    "id": "aia109S1rqdO",
    "outputId": "7164fe30-c440-4aa7-cf16-ae7d3a4fd331"
   },
   "outputs": [
    {
     "data": {
      "text/plain": [
       "4218"
      ]
     },
     "execution_count": 94,
     "metadata": {},
     "output_type": "execute_result"
    }
   ],
   "source": [
    "df_product_id_product_id_idx.count()"
   ]
  },
  {
   "cell_type": "code",
   "execution_count": 95,
   "metadata": {
    "colab": {
     "base_uri": "https://localhost:8080/"
    },
    "executionInfo": {
     "elapsed": 2486,
     "status": "ok",
     "timestamp": 1676435905915,
     "user": {
      "displayName": "Lưu Nguyễn Khải Hoàn",
      "userId": "12754983180713265756"
     },
     "user_tz": -420
    },
    "id": "-HxEmNm0rrcu",
    "outputId": "10eece52-8bed-4624-e939-34bea1851402"
   },
   "outputs": [
    {
     "name": "stdout",
     "output_type": "stream",
     "text": [
      "+--------------+----------+\n",
      "|product_id_idx|product_id|\n",
      "+--------------+----------+\n",
      "|        1635.0|  10001479|\n",
      "|        2051.0|  12321426|\n",
      "|        1876.0|  12477248|\n",
      "|         263.0|  17929212|\n",
      "|         636.0|  26314426|\n",
      "+--------------+----------+\n",
      "only showing top 5 rows\n",
      "\n"
     ]
    }
   ],
   "source": [
    "df_product_id_product_id_idx.show(5)"
   ]
  },
  {
   "cell_type": "code",
   "execution_count": 96,
   "metadata": {},
   "outputs": [
    {
     "name": "stdout",
     "output_type": "stream",
     "text": [
      "Row(customer_id_idx=1, recommendations=[Row(product_id_idx=4053, rating=5.4408745765686035), Row(product_id_idx=4204, rating=5.313883304595947), Row(product_id_idx=3998, rating=5.039939880371094)])\n",
      "\n",
      "\n",
      "Row(customer_id_idx=3, recommendations=[Row(product_id_idx=4053, rating=4.92354679107666), Row(product_id_idx=4204, rating=4.794281005859375), Row(product_id_idx=4031, rating=4.7790937423706055)])\n",
      "\n",
      "\n",
      "Row(customer_id_idx=4, recommendations=[Row(product_id_idx=4053, rating=5.5885138511657715), Row(product_id_idx=4204, rating=5.491753578186035), Row(product_id_idx=4031, rating=5.335402011871338)])\n",
      "\n",
      "\n",
      "Row(customer_id_idx=5, recommendations=[Row(product_id_idx=4204, rating=5.47184419631958), Row(product_id_idx=4053, rating=5.45049524307251), Row(product_id_idx=4031, rating=5.380753517150879)])\n",
      "\n",
      "\n",
      "Row(customer_id_idx=6, recommendations=[Row(product_id_idx=4053, rating=5.60201358795166), Row(product_id_idx=4204, rating=5.420042991638184), Row(product_id_idx=4031, rating=5.256896495819092)])\n",
      "\n",
      "\n"
     ]
    }
   ],
   "source": [
    "for user in user_recs.head(5):\n",
    "    print(user)\n",
    "    print(\"\\n\")"
   ]
  },
  {
   "cell_type": "code",
   "execution_count": 97,
   "metadata": {
    "executionInfo": {
     "elapsed": 13,
     "status": "ok",
     "timestamp": 1676435905917,
     "user": {
      "displayName": "Lưu Nguyễn Khải Hoàn",
      "userId": "12754983180713265756"
     },
     "user_tz": -420
    },
    "id": "Y5We373IrsaP"
   },
   "outputs": [],
   "source": [
    "new_user_recs = user_recs.join(df_customer_id_customer_id_idx, on=['customer_id_idx'], how='left')"
   ]
  },
  {
   "cell_type": "code",
   "execution_count": 98,
   "metadata": {
    "colab": {
     "base_uri": "https://localhost:8080/"
    },
    "executionInfo": {
     "elapsed": 80565,
     "status": "ok",
     "timestamp": 1676435986472,
     "user": {
      "displayName": "Lưu Nguyễn Khải Hoàn",
      "userId": "12754983180713265756"
     },
     "user_tz": -420
    },
    "id": "xn6vAvUfrtaw",
    "outputId": "d8eb1493-2da1-4df0-979b-58646059cedd"
   },
   "outputs": [
    {
     "name": "stdout",
     "output_type": "stream",
     "text": [
      "+---------------+--------------------------------------------------------+-----------+\n",
      "|customer_id_idx|recommendations                                         |customer_id|\n",
      "+---------------+--------------------------------------------------------+-----------+\n",
      "|7              |[{4053, 5.552538}, {4204, 5.523555}, {4031, 5.2877}]    |6177374    |\n",
      "|1              |[{4053, 5.4408746}, {4204, 5.3138833}, {3998, 5.03994}] |7280719    |\n",
      "|4              |[{4053, 5.588514}, {4204, 5.4917536}, {4031, 5.335402}] |1064154    |\n",
      "|3              |[{4053, 4.923547}, {4204, 4.794281}, {4031, 4.7790937}] |7377207    |\n",
      "|6              |[{4053, 5.6020136}, {4204, 5.420043}, {4031, 5.2568965}]|1046981    |\n",
      "+---------------+--------------------------------------------------------+-----------+\n",
      "only showing top 5 rows\n",
      "\n"
     ]
    }
   ],
   "source": [
    "new_user_recs.show(5, truncate=False)"
   ]
  },
  {
   "cell_type": "code",
   "execution_count": 99,
   "metadata": {
    "colab": {
     "base_uri": "https://localhost:8080/"
    },
    "executionInfo": {
     "elapsed": 70995,
     "status": "ok",
     "timestamp": 1676436057457,
     "user": {
      "displayName": "Lưu Nguyễn Khải Hoàn",
      "userId": "12754983180713265756"
     },
     "user_tz": -420
    },
    "id": "wgxvkutTruXg",
    "outputId": "3f5ed5c7-cee9-4e6f-ef3e-78c268cb3773"
   },
   "outputs": [
    {
     "data": {
      "text/plain": [
       "211662"
      ]
     },
     "execution_count": 99,
     "metadata": {},
     "output_type": "execute_result"
    }
   ],
   "source": [
    "new_user_recs.count()"
   ]
  },
  {
   "cell_type": "code",
   "execution_count": 100,
   "metadata": {
    "executionInfo": {
     "elapsed": 123289,
     "status": "ok",
     "timestamp": 1676436643765,
     "user": {
      "displayName": "Lưu Nguyễn Khải Hoàn",
      "userId": "12754983180713265756"
     },
     "user_tz": -420
    },
    "id": "Gv8mR2R6we6y"
   },
   "outputs": [],
   "source": [
    "new_user_recs.write.parquet('Project_2_ALS.parquet', mode='overwrite')\n",
    "df_product_id_product_id_idx.write.parquet('Project_2_ALS.parquet', mode='overwrite')"
   ]
  },
  {
   "cell_type": "code",
   "execution_count": 101,
   "metadata": {
    "colab": {
     "base_uri": "https://localhost:8080/"
    },
    "executionInfo": {
     "elapsed": 97151,
     "status": "ok",
     "timestamp": 1676436740907,
     "user": {
      "displayName": "Lưu Nguyễn Khải Hoàn",
      "userId": "12754983180713265756"
     },
     "user_tz": -420
    },
    "id": "nEIYjUqFwpyh",
    "outputId": "b135e95f-e242-43b0-985b-07d947a06a91"
   },
   "outputs": [
    {
     "data": {
      "text/plain": [
       "[Row(customer_id_idx=216812, recommendations=[Row(product_id_idx=4053, rating=3.1999025344848633), Row(product_id_idx=4204, rating=3.117853879928589), Row(product_id_idx=3998, rating=3.0233397483825684)], customer_id=709310)]"
      ]
     },
     "execution_count": 101,
     "metadata": {},
     "output_type": "execute_result"
    }
   ],
   "source": [
    "userId = ['709310', '13800460', '5493687']\n",
    "result_1 = new_user_recs.filter(new_user_recs[\"customer_id\"]=='709310')\n",
    "result_1.collect()"
   ]
  },
  {
   "cell_type": "code",
   "execution_count": 102,
   "metadata": {
    "colab": {
     "base_uri": "https://localhost:8080/",
     "height": 859
    },
    "executionInfo": {
     "elapsed": 24,
     "status": "error",
     "timestamp": 1676436740909,
     "user": {
      "displayName": "Lưu Nguyễn Khải Hoàn",
      "userId": "12754983180713265756"
     },
     "user_tz": -420
    },
    "id": "bDYYdDBU_pAy",
    "outputId": "e002e344-205d-4f07-f3c7-975a510e1f2d"
   },
   "outputs": [
    {
     "name": "stdout",
     "output_type": "stream",
     "text": [
      "+---------------+--------------------+-----------+\n",
      "|customer_id_idx|     recommendations|customer_id|\n",
      "+---------------+--------------------+-----------+\n",
      "|         101626|[{4053, 5.4975195...|   13800460|\n",
      "+---------------+--------------------+-----------+\n",
      "\n"
     ]
    }
   ],
   "source": [
    "result_2 = new_user_recs.filter(new_user_recs[\"customer_id\"]==13800460)\n",
    "result_2.show()"
   ]
  },
  {
   "cell_type": "code",
   "execution_count": 103,
   "metadata": {},
   "outputs": [
    {
     "data": {
      "text/html": [
       "<div>\n",
       "<style scoped>\n",
       "    .dataframe tbody tr th:only-of-type {\n",
       "        vertical-align: middle;\n",
       "    }\n",
       "\n",
       "    .dataframe tbody tr th {\n",
       "        vertical-align: top;\n",
       "    }\n",
       "\n",
       "    .dataframe thead th {\n",
       "        text-align: right;\n",
       "    }\n",
       "</style>\n",
       "<table border=\"1\" class=\"dataframe\">\n",
       "  <thead>\n",
       "    <tr style=\"text-align: right;\">\n",
       "      <th></th>\n",
       "      <th>customer_id</th>\n",
       "      <th>product_id</th>\n",
       "      <th>name</th>\n",
       "      <th>full_name</th>\n",
       "      <th>created_time</th>\n",
       "      <th>rating</th>\n",
       "      <th>title</th>\n",
       "      <th>content</th>\n",
       "    </tr>\n",
       "  </thead>\n",
       "  <tbody>\n",
       "    <tr>\n",
       "      <th>188</th>\n",
       "      <td>13800460</td>\n",
       "      <td>10001351</td>\n",
       "      <td>Trần Ngọc Lâm</td>\n",
       "      <td>Trần Ngọc Lâm</td>\n",
       "      <td>nan</td>\n",
       "      <td>5</td>\n",
       "      <td>rất hài lòng</td>\n",
       "      <td>khi mua được thông báo là hàng giao nhanh tron...</td>\n",
       "    </tr>\n",
       "  </tbody>\n",
       "</table>\n",
       "</div>"
      ],
      "text/plain": [
       "     customer_id  product_id           name      full_name created_time  \\\n",
       "188     13800460    10001351  Trần Ngọc Lâm  Trần Ngọc Lâm          nan   \n",
       "\n",
       "     rating         title                                            content  \n",
       "188       5  rất hài lòng  khi mua được thông báo là hàng giao nhanh tron...  "
      ]
     },
     "execution_count": 103,
     "metadata": {},
     "output_type": "execute_result"
    }
   ],
   "source": [
    "reviews.loc[reviews[\"customer_id\"]==13800460]"
   ]
  },
  {
   "cell_type": "code",
   "execution_count": 104,
   "metadata": {
    "executionInfo": {
     "elapsed": 15,
     "status": "aborted",
     "timestamp": 1676436740910,
     "user": {
      "displayName": "Lưu Nguyễn Khải Hoàn",
      "userId": "12754983180713265756"
     },
     "user_tz": -420
    },
    "id": "Deqj-Sh__uMQ"
   },
   "outputs": [
    {
     "name": "stdout",
     "output_type": "stream",
     "text": [
      "+---------------+--------------------+-----------+\n",
      "|customer_id_idx|     recommendations|customer_id|\n",
      "+---------------+--------------------+-----------+\n",
      "|         194826|[{4053, 5.368687}...|    5493687|\n",
      "+---------------+--------------------+-----------+\n",
      "\n"
     ]
    }
   ],
   "source": [
    "result_3 = new_user_recs.filter(new_user_recs[\"customer_id\"]=='5493687')\n",
    "result_3.show()"
   ]
  },
  {
   "cell_type": "markdown",
   "metadata": {},
   "source": [
    "### Convert"
   ]
  },
  {
   "cell_type": "code",
   "execution_count": 44,
   "metadata": {},
   "outputs": [],
   "source": [
    "import pandas as pd\n",
    "recs=model.recommendForAllUsers(5).toPandas()\n",
    "nrecs=recs.recommendations.apply(pd.Series) \\\n",
    "            .merge(recs, right_index = True, left_index = True) \\\n",
    "            .drop([\"recommendations\"], axis = 1) \\\n",
    "            .melt(id_vars = ['customer_id_idx'], value_name = \"recommendation\") \\\n",
    "            .drop(\"variable\", axis = 1) \\\n",
    "            .dropna()\n",
    "nrecs=nrecs.sort_values('customer_id_idx')\n",
    "nrecs=pd.concat([nrecs['recommendation']\\\n",
    "              .apply(pd.Series), nrecs['customer_id_idx']], axis = 1)\n",
    "nrecs.columns = [\n",
    "          'product_id_idx',\n",
    "          'rating',\n",
    "          'customer_id_idx'\n",
    "          ]"
   ]
  },
  {
   "cell_type": "code",
   "execution_count": 45,
   "metadata": {},
   "outputs": [],
   "source": [
    "md=data_indexed.select(['customer_id', 'customer_id_idx', 'product_id', 'product_id_idx'])\n",
    "md=md.toPandas()\n",
    "dict1 =dict(zip(md['customer_id_idx'],md['customer_id']))\n",
    "dict2=dict(zip(md['product_id_idx'],md['product_id']))\n",
    "nrecs['customer_id']=nrecs['customer_id_idx'].map(dict1)\n",
    "nrecs['product_id']=nrecs['product_id_idx'].map(dict2)\n",
    "nrecs=nrecs.sort_values('customer_id')\n",
    "nrecs.reset_index(drop=True, inplace=True)"
   ]
  },
  {
   "cell_type": "code",
   "execution_count": 46,
   "metadata": {},
   "outputs": [],
   "source": [
    "new=nrecs[['customer_id','product_id','rating']]"
   ]
  },
  {
   "cell_type": "code",
   "execution_count": 47,
   "metadata": {},
   "outputs": [
    {
     "name": "stderr",
     "output_type": "stream",
     "text": [
      "C:\\Users\\khaih\\AppData\\Local\\Temp\\ipykernel_37600\\44393553.py:1: SettingWithCopyWarning: \n",
      "A value is trying to be set on a copy of a slice from a DataFrame.\n",
      "Try using .loc[row_indexer,col_indexer] = value instead\n",
      "\n",
      "See the caveats in the documentation: https://pandas.pydata.org/pandas-docs/stable/user_guide/indexing.html#returning-a-view-versus-a-copy\n",
      "  new['recommendations'] = list(zip(new.product_id, new.rating))\n"
     ]
    }
   ],
   "source": [
    "new['recommendations'] = list(zip(new.product_id, new.rating))\n",
    "res=new[['customer_id','recommendations']]\n",
    "res_new=res['recommendations'].groupby([res.customer_id]).apply(list).reset_index()"
   ]
  },
  {
   "cell_type": "code",
   "execution_count": 48,
   "metadata": {},
   "outputs": [
    {
     "data": {
      "text/html": [
       "<div>\n",
       "<style scoped>\n",
       "    .dataframe tbody tr th:only-of-type {\n",
       "        vertical-align: middle;\n",
       "    }\n",
       "\n",
       "    .dataframe tbody tr th {\n",
       "        vertical-align: top;\n",
       "    }\n",
       "\n",
       "    .dataframe thead th {\n",
       "        text-align: right;\n",
       "    }\n",
       "</style>\n",
       "<table border=\"1\" class=\"dataframe\">\n",
       "  <thead>\n",
       "    <tr style=\"text-align: right;\">\n",
       "      <th></th>\n",
       "      <th>customer_id</th>\n",
       "      <th>recommendations</th>\n",
       "    </tr>\n",
       "  </thead>\n",
       "  <tbody>\n",
       "    <tr>\n",
       "      <th>0</th>\n",
       "      <td>10</td>\n",
       "      <td>[(50560427, 4.668085098266602), (59081231, 4.4...</td>\n",
       "    </tr>\n",
       "    <tr>\n",
       "      <th>1</th>\n",
       "      <td>27</td>\n",
       "      <td>[(72323554, 5.450332164764404), (71293311, 4.9...</td>\n",
       "    </tr>\n",
       "    <tr>\n",
       "      <th>2</th>\n",
       "      <td>28</td>\n",
       "      <td>[(4794489, 4.833827495574951), (2383179, 4.908...</td>\n",
       "    </tr>\n",
       "    <tr>\n",
       "      <th>3</th>\n",
       "      <td>36</td>\n",
       "      <td>[(46779514, 5.015125274658203), (66251373, 5.4...</td>\n",
       "    </tr>\n",
       "    <tr>\n",
       "      <th>4</th>\n",
       "      <td>50</td>\n",
       "      <td>[(72323554, 4.980597972869873), (46779514, 4.5...</td>\n",
       "    </tr>\n",
       "    <tr>\n",
       "      <th>...</th>\n",
       "      <td>...</td>\n",
       "      <td>...</td>\n",
       "    </tr>\n",
       "    <tr>\n",
       "      <th>211657</th>\n",
       "      <td>20997330</td>\n",
       "      <td>[(48520298, 5.036728858947754), (50560427, 5.1...</td>\n",
       "    </tr>\n",
       "    <tr>\n",
       "      <th>211658</th>\n",
       "      <td>20998827</td>\n",
       "      <td>[(76732229, 5.095361709594727), (72323554, 5.5...</td>\n",
       "    </tr>\n",
       "    <tr>\n",
       "      <th>211659</th>\n",
       "      <td>21003644</td>\n",
       "      <td>[(46779514, 4.900651931762695), (72323554, 5.5...</td>\n",
       "    </tr>\n",
       "    <tr>\n",
       "      <th>211660</th>\n",
       "      <td>21003802</td>\n",
       "      <td>[(49385947, 3.9555463790893555), (38519367, 4....</td>\n",
       "    </tr>\n",
       "    <tr>\n",
       "      <th>211661</th>\n",
       "      <td>21013443</td>\n",
       "      <td>[(76732229, 5.12668514251709), (66251373, 5.12...</td>\n",
       "    </tr>\n",
       "  </tbody>\n",
       "</table>\n",
       "<p>211662 rows × 2 columns</p>\n",
       "</div>"
      ],
      "text/plain": [
       "        customer_id                                    recommendations\n",
       "0                10  [(50560427, 4.668085098266602), (59081231, 4.4...\n",
       "1                27  [(72323554, 5.450332164764404), (71293311, 4.9...\n",
       "2                28  [(4794489, 4.833827495574951), (2383179, 4.908...\n",
       "3                36  [(46779514, 5.015125274658203), (66251373, 5.4...\n",
       "4                50  [(72323554, 4.980597972869873), (46779514, 4.5...\n",
       "...             ...                                                ...\n",
       "211657     20997330  [(48520298, 5.036728858947754), (50560427, 5.1...\n",
       "211658     20998827  [(76732229, 5.095361709594727), (72323554, 5.5...\n",
       "211659     21003644  [(46779514, 4.900651931762695), (72323554, 5.5...\n",
       "211660     21003802  [(49385947, 3.9555463790893555), (38519367, 4....\n",
       "211661     21013443  [(76732229, 5.12668514251709), (66251373, 5.12...\n",
       "\n",
       "[211662 rows x 2 columns]"
      ]
     },
     "execution_count": 48,
     "metadata": {},
     "output_type": "execute_result"
    }
   ],
   "source": [
    "res_new"
   ]
  },
  {
   "cell_type": "code",
   "execution_count": 49,
   "metadata": {},
   "outputs": [],
   "source": [
    "from operator import itemgetter"
   ]
  },
  {
   "cell_type": "code",
   "execution_count": 50,
   "metadata": {},
   "outputs": [],
   "source": [
    "indices = range(len(res_new['recommendations'][0]))\n",
    "df_=res_new['recommendations'].transform({f'sp{i+1}': itemgetter(i) for i in indices})\n",
    "df_merged = pd.concat([res_new, df_], axis=1)"
   ]
  },
  {
   "cell_type": "code",
   "execution_count": 51,
   "metadata": {},
   "outputs": [
    {
     "data": {
      "text/html": [
       "<div>\n",
       "<style scoped>\n",
       "    .dataframe tbody tr th:only-of-type {\n",
       "        vertical-align: middle;\n",
       "    }\n",
       "\n",
       "    .dataframe tbody tr th {\n",
       "        vertical-align: top;\n",
       "    }\n",
       "\n",
       "    .dataframe thead th {\n",
       "        text-align: right;\n",
       "    }\n",
       "</style>\n",
       "<table border=\"1\" class=\"dataframe\">\n",
       "  <thead>\n",
       "    <tr style=\"text-align: right;\">\n",
       "      <th></th>\n",
       "      <th>customer_id</th>\n",
       "      <th>recommendations</th>\n",
       "      <th>sp1</th>\n",
       "      <th>sp2</th>\n",
       "      <th>sp3</th>\n",
       "      <th>sp4</th>\n",
       "      <th>sp5</th>\n",
       "    </tr>\n",
       "  </thead>\n",
       "  <tbody>\n",
       "    <tr>\n",
       "      <th>0</th>\n",
       "      <td>10</td>\n",
       "      <td>[(50560427, 4.668085098266602), (59081231, 4.4...</td>\n",
       "      <td>(50560427, 4.668085098266602)</td>\n",
       "      <td>(59081231, 4.489725589752197)</td>\n",
       "      <td>(72323554, 4.897213935852051)</td>\n",
       "      <td>(71293311, 4.509383678436279)</td>\n",
       "      <td>(76732229, 4.705409526824951)</td>\n",
       "    </tr>\n",
       "    <tr>\n",
       "      <th>1</th>\n",
       "      <td>27</td>\n",
       "      <td>[(72323554, 5.450332164764404), (71293311, 4.9...</td>\n",
       "      <td>(72323554, 5.450332164764404)</td>\n",
       "      <td>(71293311, 4.963501453399658)</td>\n",
       "      <td>(46779514, 4.958159446716309)</td>\n",
       "      <td>(76732229, 5.347762107849121)</td>\n",
       "      <td>(66251373, 5.233186721801758)</td>\n",
       "    </tr>\n",
       "    <tr>\n",
       "      <th>2</th>\n",
       "      <td>28</td>\n",
       "      <td>[(4794489, 4.833827495574951), (2383179, 4.908...</td>\n",
       "      <td>(4794489, 4.833827495574951)</td>\n",
       "      <td>(2383179, 4.908841133117676)</td>\n",
       "      <td>(76732229, 4.932889938354492)</td>\n",
       "      <td>(70833091, 4.867777347564697)</td>\n",
       "      <td>(52341716, 4.935051441192627)</td>\n",
       "    </tr>\n",
       "    <tr>\n",
       "      <th>3</th>\n",
       "      <td>36</td>\n",
       "      <td>[(46779514, 5.015125274658203), (66251373, 5.4...</td>\n",
       "      <td>(46779514, 5.015125274658203)</td>\n",
       "      <td>(66251373, 5.403257846832275)</td>\n",
       "      <td>(72323554, 5.410384178161621)</td>\n",
       "      <td>(76732229, 5.295610427856445)</td>\n",
       "      <td>(52341716, 4.981635570526123)</td>\n",
       "    </tr>\n",
       "    <tr>\n",
       "      <th>4</th>\n",
       "      <td>50</td>\n",
       "      <td>[(72323554, 4.980597972869873), (46779514, 4.5...</td>\n",
       "      <td>(72323554, 4.980597972869873)</td>\n",
       "      <td>(46779514, 4.525915622711182)</td>\n",
       "      <td>(66251373, 4.71727180480957)</td>\n",
       "      <td>(76732229, 4.6814680099487305)</td>\n",
       "      <td>(48520298, 4.591348648071289)</td>\n",
       "    </tr>\n",
       "  </tbody>\n",
       "</table>\n",
       "</div>"
      ],
      "text/plain": [
       "   customer_id                                    recommendations  \\\n",
       "0           10  [(50560427, 4.668085098266602), (59081231, 4.4...   \n",
       "1           27  [(72323554, 5.450332164764404), (71293311, 4.9...   \n",
       "2           28  [(4794489, 4.833827495574951), (2383179, 4.908...   \n",
       "3           36  [(46779514, 5.015125274658203), (66251373, 5.4...   \n",
       "4           50  [(72323554, 4.980597972869873), (46779514, 4.5...   \n",
       "\n",
       "                             sp1                            sp2  \\\n",
       "0  (50560427, 4.668085098266602)  (59081231, 4.489725589752197)   \n",
       "1  (72323554, 5.450332164764404)  (71293311, 4.963501453399658)   \n",
       "2   (4794489, 4.833827495574951)   (2383179, 4.908841133117676)   \n",
       "3  (46779514, 5.015125274658203)  (66251373, 5.403257846832275)   \n",
       "4  (72323554, 4.980597972869873)  (46779514, 4.525915622711182)   \n",
       "\n",
       "                             sp3                             sp4  \\\n",
       "0  (72323554, 4.897213935852051)   (71293311, 4.509383678436279)   \n",
       "1  (46779514, 4.958159446716309)   (76732229, 5.347762107849121)   \n",
       "2  (76732229, 4.932889938354492)   (70833091, 4.867777347564697)   \n",
       "3  (72323554, 5.410384178161621)   (76732229, 5.295610427856445)   \n",
       "4   (66251373, 4.71727180480957)  (76732229, 4.6814680099487305)   \n",
       "\n",
       "                             sp5  \n",
       "0  (76732229, 4.705409526824951)  \n",
       "1  (66251373, 5.233186721801758)  \n",
       "2  (52341716, 4.935051441192627)  \n",
       "3  (52341716, 4.981635570526123)  \n",
       "4  (48520298, 4.591348648071289)  "
      ]
     },
     "execution_count": 51,
     "metadata": {},
     "output_type": "execute_result"
    }
   ],
   "source": [
    "df_merged.head()"
   ]
  },
  {
   "cell_type": "code",
   "execution_count": 53,
   "metadata": {},
   "outputs": [],
   "source": [
    "df_merged.to_csv(\"Project_2_ALS.csv\")"
   ]
  },
  {
   "cell_type": "code",
   "execution_count": 64,
   "metadata": {},
   "outputs": [
    {
     "data": {
      "text/html": [
       "<div>\n",
       "<style scoped>\n",
       "    .dataframe tbody tr th:only-of-type {\n",
       "        vertical-align: middle;\n",
       "    }\n",
       "\n",
       "    .dataframe tbody tr th {\n",
       "        vertical-align: top;\n",
       "    }\n",
       "\n",
       "    .dataframe thead th {\n",
       "        text-align: right;\n",
       "    }\n",
       "</style>\n",
       "<table border=\"1\" class=\"dataframe\">\n",
       "  <thead>\n",
       "    <tr style=\"text-align: right;\">\n",
       "      <th></th>\n",
       "      <th>customer_id</th>\n",
       "      <th>recommendations</th>\n",
       "      <th>sp1</th>\n",
       "      <th>sp2</th>\n",
       "      <th>sp3</th>\n",
       "      <th>sp4</th>\n",
       "      <th>sp5</th>\n",
       "    </tr>\n",
       "  </thead>\n",
       "  <tbody>\n",
       "    <tr>\n",
       "      <th>0</th>\n",
       "      <td>10</td>\n",
       "      <td>[(50560427, 4.668085098266602), (59081231, 4.4...</td>\n",
       "      <td>(50560427, 4.668085098266602)</td>\n",
       "      <td>(59081231, 4.489725589752197)</td>\n",
       "      <td>(72323554, 4.897213935852051)</td>\n",
       "      <td>(71293311, 4.509383678436279)</td>\n",
       "      <td>(76732229, 4.705409526824951)</td>\n",
       "    </tr>\n",
       "    <tr>\n",
       "      <th>1</th>\n",
       "      <td>27</td>\n",
       "      <td>[(72323554, 5.450332164764404), (71293311, 4.9...</td>\n",
       "      <td>(72323554, 5.450332164764404)</td>\n",
       "      <td>(71293311, 4.963501453399658)</td>\n",
       "      <td>(46779514, 4.958159446716309)</td>\n",
       "      <td>(76732229, 5.347762107849121)</td>\n",
       "      <td>(66251373, 5.233186721801758)</td>\n",
       "    </tr>\n",
       "    <tr>\n",
       "      <th>2</th>\n",
       "      <td>28</td>\n",
       "      <td>[(4794489, 4.833827495574951), (2383179, 4.908...</td>\n",
       "      <td>(4794489, 4.833827495574951)</td>\n",
       "      <td>(2383179, 4.908841133117676)</td>\n",
       "      <td>(76732229, 4.932889938354492)</td>\n",
       "      <td>(70833091, 4.867777347564697)</td>\n",
       "      <td>(52341716, 4.935051441192627)</td>\n",
       "    </tr>\n",
       "    <tr>\n",
       "      <th>3</th>\n",
       "      <td>36</td>\n",
       "      <td>[(46779514, 5.015125274658203), (66251373, 5.4...</td>\n",
       "      <td>(46779514, 5.015125274658203)</td>\n",
       "      <td>(66251373, 5.403257846832275)</td>\n",
       "      <td>(72323554, 5.410384178161621)</td>\n",
       "      <td>(76732229, 5.295610427856445)</td>\n",
       "      <td>(52341716, 4.981635570526123)</td>\n",
       "    </tr>\n",
       "    <tr>\n",
       "      <th>4</th>\n",
       "      <td>50</td>\n",
       "      <td>[(72323554, 4.980597972869873), (46779514, 4.5...</td>\n",
       "      <td>(72323554, 4.980597972869873)</td>\n",
       "      <td>(46779514, 4.525915622711182)</td>\n",
       "      <td>(66251373, 4.71727180480957)</td>\n",
       "      <td>(76732229, 4.6814680099487305)</td>\n",
       "      <td>(48520298, 4.591348648071289)</td>\n",
       "    </tr>\n",
       "  </tbody>\n",
       "</table>\n",
       "</div>"
      ],
      "text/plain": [
       "   customer_id                                    recommendations  \\\n",
       "0           10  [(50560427, 4.668085098266602), (59081231, 4.4...   \n",
       "1           27  [(72323554, 5.450332164764404), (71293311, 4.9...   \n",
       "2           28  [(4794489, 4.833827495574951), (2383179, 4.908...   \n",
       "3           36  [(46779514, 5.015125274658203), (66251373, 5.4...   \n",
       "4           50  [(72323554, 4.980597972869873), (46779514, 4.5...   \n",
       "\n",
       "                             sp1                            sp2  \\\n",
       "0  (50560427, 4.668085098266602)  (59081231, 4.489725589752197)   \n",
       "1  (72323554, 5.450332164764404)  (71293311, 4.963501453399658)   \n",
       "2   (4794489, 4.833827495574951)   (2383179, 4.908841133117676)   \n",
       "3  (46779514, 5.015125274658203)  (66251373, 5.403257846832275)   \n",
       "4  (72323554, 4.980597972869873)  (46779514, 4.525915622711182)   \n",
       "\n",
       "                             sp3                             sp4  \\\n",
       "0  (72323554, 4.897213935852051)   (71293311, 4.509383678436279)   \n",
       "1  (46779514, 4.958159446716309)   (76732229, 5.347762107849121)   \n",
       "2  (76732229, 4.932889938354492)   (70833091, 4.867777347564697)   \n",
       "3  (72323554, 5.410384178161621)   (76732229, 5.295610427856445)   \n",
       "4   (66251373, 4.71727180480957)  (76732229, 4.6814680099487305)   \n",
       "\n",
       "                             sp5  \n",
       "0  (76732229, 4.705409526824951)  \n",
       "1  (66251373, 5.233186721801758)  \n",
       "2  (52341716, 4.935051441192627)  \n",
       "3  (52341716, 4.981635570526123)  \n",
       "4  (48520298, 4.591348648071289)  "
      ]
     },
     "execution_count": 64,
     "metadata": {},
     "output_type": "execute_result"
    }
   ],
   "source": [
    "df_cus=pd.read_csv(\"Project_2_ALS.csv\",index_col=0)\n",
    "df_cus.head()"
   ]
  },
  {
   "cell_type": "code",
   "execution_count": 75,
   "metadata": {},
   "outputs": [],
   "source": [
    "def filter_customerID(df_merged,customer_id):\n",
    "    index=df_merged[df_merged[\"customer_id\"]==customer_id].index.values.astype(int)[0]\n",
    "    sp=df_merged[df_merged[\"customer_id\"]==customer_id].replace(\"\\(\", \"\", regex=True).replace(\"\\)\", \"\", regex=True)\n",
    "    list_product_ID=[]\n",
    "    list_product_Rating=[]\n",
    "    list_customerID=[]\n",
    "    for i in range(1,6):\n",
    "        index_=\"sp\"+str(i)\n",
    "        list_product_ID.append(sp[index_][index].split(\",\")[0])\n",
    "        list_product_Rating.append(sp[index_][index].split(\",\")[1])\n",
    "        list_customerID.append(customer_id)\n",
    "    df=pd.DataFrame({\"CustomerID\":list_customerID,\"Product ID\":list_product_ID,\"Rating\":list_product_Rating})\n",
    "    return df"
   ]
  },
  {
   "cell_type": "code",
   "execution_count": 76,
   "metadata": {},
   "outputs": [
    {
     "data": {
      "text/html": [
       "<div>\n",
       "<style scoped>\n",
       "    .dataframe tbody tr th:only-of-type {\n",
       "        vertical-align: middle;\n",
       "    }\n",
       "\n",
       "    .dataframe tbody tr th {\n",
       "        vertical-align: top;\n",
       "    }\n",
       "\n",
       "    .dataframe thead th {\n",
       "        text-align: right;\n",
       "    }\n",
       "</style>\n",
       "<table border=\"1\" class=\"dataframe\">\n",
       "  <thead>\n",
       "    <tr style=\"text-align: right;\">\n",
       "      <th></th>\n",
       "      <th>CustomerID</th>\n",
       "      <th>Product ID</th>\n",
       "      <th>Rating</th>\n",
       "    </tr>\n",
       "  </thead>\n",
       "  <tbody>\n",
       "    <tr>\n",
       "      <th>0</th>\n",
       "      <td>10</td>\n",
       "      <td>50560427</td>\n",
       "      <td>4.668085098266602</td>\n",
       "    </tr>\n",
       "    <tr>\n",
       "      <th>1</th>\n",
       "      <td>10</td>\n",
       "      <td>59081231</td>\n",
       "      <td>4.489725589752197</td>\n",
       "    </tr>\n",
       "    <tr>\n",
       "      <th>2</th>\n",
       "      <td>10</td>\n",
       "      <td>72323554</td>\n",
       "      <td>4.897213935852051</td>\n",
       "    </tr>\n",
       "    <tr>\n",
       "      <th>3</th>\n",
       "      <td>10</td>\n",
       "      <td>71293311</td>\n",
       "      <td>4.509383678436279</td>\n",
       "    </tr>\n",
       "    <tr>\n",
       "      <th>4</th>\n",
       "      <td>10</td>\n",
       "      <td>76732229</td>\n",
       "      <td>4.705409526824951</td>\n",
       "    </tr>\n",
       "  </tbody>\n",
       "</table>\n",
       "</div>"
      ],
      "text/plain": [
       "   CustomerID Product ID              Rating\n",
       "0          10   50560427   4.668085098266602\n",
       "1          10   59081231   4.489725589752197\n",
       "2          10   72323554   4.897213935852051\n",
       "3          10   71293311   4.509383678436279\n",
       "4          10   76732229   4.705409526824951"
      ]
     },
     "execution_count": 76,
     "metadata": {},
     "output_type": "execute_result"
    }
   ],
   "source": [
    "filter_customerID(df_cus,10)"
   ]
  },
  {
   "cell_type": "code",
   "execution_count": 77,
   "metadata": {},
   "outputs": [
    {
     "data": {
      "text/html": [
       "<div>\n",
       "<style scoped>\n",
       "    .dataframe tbody tr th:only-of-type {\n",
       "        vertical-align: middle;\n",
       "    }\n",
       "\n",
       "    .dataframe tbody tr th {\n",
       "        vertical-align: top;\n",
       "    }\n",
       "\n",
       "    .dataframe thead th {\n",
       "        text-align: right;\n",
       "    }\n",
       "</style>\n",
       "<table border=\"1\" class=\"dataframe\">\n",
       "  <thead>\n",
       "    <tr style=\"text-align: right;\">\n",
       "      <th></th>\n",
       "      <th>CustomerID</th>\n",
       "      <th>Product ID</th>\n",
       "      <th>Rating</th>\n",
       "    </tr>\n",
       "  </thead>\n",
       "  <tbody>\n",
       "    <tr>\n",
       "      <th>0</th>\n",
       "      <td>21013443</td>\n",
       "      <td>76732229</td>\n",
       "      <td>5.12668514251709</td>\n",
       "    </tr>\n",
       "    <tr>\n",
       "      <th>1</th>\n",
       "      <td>21013443</td>\n",
       "      <td>66251373</td>\n",
       "      <td>5.127294540405273</td>\n",
       "    </tr>\n",
       "    <tr>\n",
       "      <th>2</th>\n",
       "      <td>21013443</td>\n",
       "      <td>72323554</td>\n",
       "      <td>5.267727375030518</td>\n",
       "    </tr>\n",
       "    <tr>\n",
       "      <th>3</th>\n",
       "      <td>21013443</td>\n",
       "      <td>69149307</td>\n",
       "      <td>4.988340854644775</td>\n",
       "    </tr>\n",
       "    <tr>\n",
       "      <th>4</th>\n",
       "      <td>21013443</td>\n",
       "      <td>56113792</td>\n",
       "      <td>5.051194667816162</td>\n",
       "    </tr>\n",
       "  </tbody>\n",
       "</table>\n",
       "</div>"
      ],
      "text/plain": [
       "   CustomerID Product ID              Rating\n",
       "0    21013443   76732229    5.12668514251709\n",
       "1    21013443   66251373   5.127294540405273\n",
       "2    21013443   72323554   5.267727375030518\n",
       "3    21013443   69149307   4.988340854644775\n",
       "4    21013443   56113792   5.051194667816162"
      ]
     },
     "execution_count": 77,
     "metadata": {},
     "output_type": "execute_result"
    }
   ],
   "source": [
    "filter_customerID(df_cus,21013443)"
   ]
  },
  {
   "cell_type": "code",
   "execution_count": 78,
   "metadata": {},
   "outputs": [
    {
     "data": {
      "text/html": [
       "<div>\n",
       "<style scoped>\n",
       "    .dataframe tbody tr th:only-of-type {\n",
       "        vertical-align: middle;\n",
       "    }\n",
       "\n",
       "    .dataframe tbody tr th {\n",
       "        vertical-align: top;\n",
       "    }\n",
       "\n",
       "    .dataframe thead th {\n",
       "        text-align: right;\n",
       "    }\n",
       "</style>\n",
       "<table border=\"1\" class=\"dataframe\">\n",
       "  <thead>\n",
       "    <tr style=\"text-align: right;\">\n",
       "      <th></th>\n",
       "      <th>CustomerID</th>\n",
       "      <th>Product ID</th>\n",
       "      <th>Rating</th>\n",
       "    </tr>\n",
       "  </thead>\n",
       "  <tbody>\n",
       "    <tr>\n",
       "      <th>0</th>\n",
       "      <td>27</td>\n",
       "      <td>72323554</td>\n",
       "      <td>5.450332164764404</td>\n",
       "    </tr>\n",
       "    <tr>\n",
       "      <th>1</th>\n",
       "      <td>27</td>\n",
       "      <td>71293311</td>\n",
       "      <td>4.963501453399658</td>\n",
       "    </tr>\n",
       "    <tr>\n",
       "      <th>2</th>\n",
       "      <td>27</td>\n",
       "      <td>46779514</td>\n",
       "      <td>4.958159446716309</td>\n",
       "    </tr>\n",
       "    <tr>\n",
       "      <th>3</th>\n",
       "      <td>27</td>\n",
       "      <td>76732229</td>\n",
       "      <td>5.347762107849121</td>\n",
       "    </tr>\n",
       "    <tr>\n",
       "      <th>4</th>\n",
       "      <td>27</td>\n",
       "      <td>66251373</td>\n",
       "      <td>5.233186721801758</td>\n",
       "    </tr>\n",
       "  </tbody>\n",
       "</table>\n",
       "</div>"
      ],
      "text/plain": [
       "   CustomerID Product ID              Rating\n",
       "0          27   72323554   5.450332164764404\n",
       "1          27   71293311   4.963501453399658\n",
       "2          27   46779514   4.958159446716309\n",
       "3          27   76732229   5.347762107849121\n",
       "4          27   66251373   5.233186721801758"
      ]
     },
     "execution_count": 78,
     "metadata": {},
     "output_type": "execute_result"
    }
   ],
   "source": [
    "filter_customerID(df_cus,27)"
   ]
  },
  {
   "cell_type": "code",
   "execution_count": 81,
   "metadata": {},
   "outputs": [],
   "source": [
    "from pyspark.ml.recommendation import ALSModel\n",
    "model_2 = ALSModel.load('Project_2_ALS_model')"
   ]
  },
  {
   "cell_type": "code",
   "execution_count": 82,
   "metadata": {},
   "outputs": [],
   "source": [
    "predictions = model_2.transform(test)"
   ]
  },
  {
   "cell_type": "code",
   "execution_count": 83,
   "metadata": {},
   "outputs": [
    {
     "name": "stdout",
     "output_type": "stream",
     "text": [
      "+-----------+----------+------+--------------+---------------+----------+\n",
      "|customer_id|product_id|rating|product_id_idx|customer_id_idx|prediction|\n",
      "+-----------+----------+------+--------------+---------------+----------+\n",
      "|        100|  71197117|   5.0|         176.0|         3380.0|  4.712061|\n",
      "|        158|    405252|   5.0|          67.0|         1547.0| 4.1528482|\n",
      "|        158|  21464946|   5.0|         180.0|         1547.0| 4.4451165|\n",
      "|        158|  32648365|   5.0|         147.0|         1547.0|  4.369875|\n",
      "|        330|   2034021|   5.0|         238.0|         8525.0|  4.257676|\n",
      "|        534|   9830444|   5.0|          86.0|         8878.0|  3.788597|\n",
      "|        661|    311639|   5.0|          81.0|         5157.0|  4.303913|\n",
      "|        661|   6376015|   3.0|         185.0|         5157.0| 4.4484277|\n",
      "|        666|   5987217|   3.0|         516.0|        51363.0|  3.643567|\n",
      "|        709|  46623654|   5.0|         103.0|        52696.0| 4.0660515|\n",
      "+-----------+----------+------+--------------+---------------+----------+\n",
      "only showing top 10 rows\n",
      "\n"
     ]
    }
   ],
   "source": [
    "predictions.show(10)"
   ]
  },
  {
   "cell_type": "code",
   "execution_count": null,
   "metadata": {},
   "outputs": [],
   "source": []
  }
 ],
 "metadata": {
  "colab": {
   "authorship_tag": "ABX9TyMXY5NtX5RmkF/hKOZIw90s",
   "provenance": []
  },
  "kernelspec": {
   "display_name": "Python 3 (ipykernel)",
   "language": "python",
   "name": "python3"
  },
  "language_info": {
   "codemirror_mode": {
    "name": "ipython",
    "version": 3
   },
   "file_extension": ".py",
   "mimetype": "text/x-python",
   "name": "python",
   "nbconvert_exporter": "python",
   "pygments_lexer": "ipython3",
   "version": "3.9.13"
  }
 },
 "nbformat": 4,
 "nbformat_minor": 1
}
